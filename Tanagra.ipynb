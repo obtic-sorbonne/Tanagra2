{
  "nbformat": 4,
  "nbformat_minor": 0,
  "metadata": {
    "colab": {
      "provenance": [],
      "gpuType": "T4"
    },
    "kernelspec": {
      "name": "python3",
      "display_name": "Python 3"
    },
    "language_info": {
      "name": "python"
    },
    "accelerator": "GPU"
  },
  "cells": [
    {
      "cell_type": "markdown",
      "source": [
        "# `NLP for Digital Humanities`\n",
        "#` Tanagra (version 2)`\n",
        "\n",
        "##### [Motasem Alrahabi](https://obtic.sorbonne-universite.fr/alrahabi/index.html), [ObTIC](https://obtic.sorbonne-universite.fr/) - [Sorbonne Université](https://www.sorbonne-universite.fr/)\n",
        "\n",
        "2025\n",
        "\n",
        "Shortlink: https://rb.gy/pg0tb8"
      ],
      "metadata": {
        "id": "kET2Wqea6Trf"
      }
    },
    {
      "cell_type": "markdown",
      "source": [
        "#`Introduction`:\n",
        "This development aims to identify, geolocate, and map place names in texts while associating them with a positive, negative, or neutral sentiment based on their context.\n",
        "\n",
        "The emotional mapping of place names is a method that involves associating emotions with specific geographic locations. This method can be used to explore how places are perceived and felt by people who live there or visit them.\n",
        "\n",
        "Examples:\n",
        "*   I love Paris...\n",
        "*   I visited London and had a very good time there.\n",
        "*   ...\n",
        "\n",
        "\n",
        "Projects examples: [Victorian London](https://www.historypin.org/en/victorian-london/geo/51.5128,-0.116085,12/bounds/51.423936,-0.222,51.601491,-0.01017/paging/1), [Mapping Arabia](https://www.google.com/maps/d/u/0/edit?hl=fr&mid=1M--Wq2CJcCPjIccrm5h8LYoTANTTH4cc&ll=48.84129625249132%2C2.356532365466477&z=13), [Palladio](https://hdlab.stanford.edu/palladio/), etc."
      ],
      "metadata": {
        "id": "bKl4AAQ1sEXn"
      }
    },
    {
      "cell_type": "markdown",
      "source": [
        "---"
      ],
      "metadata": {
        "id": "VfgK6IZkHCIl"
      }
    },
    {
      "cell_type": "markdown",
      "source": [
        "### **Method:**\n",
        "\n",
        "To generate a map with the place names found in a text, we will do the following steps\n",
        "\n",
        "1- **`Extracting place names from the text`** using NLP techniques to detect geographical entities in the text: city names, country names, rivers, mountains, etc.\n",
        "\n",
        "--> Challenges: Coverage - geographical entities are an open list (unknown words, graphical and historical variations, abbreviations); Granularity and delimitation - nesting, scope (e.g., \"jardin du Luxembourg\"); Homonymy - Paris (France) vs. Paris Hilton; Orange (city) vs. Orange (fruit); Metonymy - Charles de Gaulle (person, airport, aircraft carrier, etc.).\n",
        "\n",
        "2- **`Geocoding`** : sending place names to a geocoding service to convert them into geographical coordinates (latitude and longitude). This can be done using a geocoding library or by making queries to an online geocoding service.\n",
        "\n",
        "--> Challenges: Disambiguating duplicate place names, e.g., Paris (France) vs. Paris (United States); Tunis (country) or Tunis (capital). Data linking can also be ensured, connecting one or more entities to a unique reference (e.g., 1 av. de l'Exemple, Paris -> 1 avenue de l'Exemple, 75005 Paris). Databases like Wikidata are used for this purpose.\n",
        "\n",
        "3- **`Displaying on a map`** : showing the geographical coordinates of places on a map using a mapping library such as Leaflet, Google Maps, Mapbox, etc. Markers can be created on the map for each place, and the place name can be displayed as a tooltip or label."
      ],
      "metadata": {
        "id": "-tZLjgk8FmSC"
      }
    },
    {
      "cell_type": "markdown",
      "source": [
        "---"
      ],
      "metadata": {
        "id": "p2yt1wDuG_ks"
      }
    },
    {
      "cell_type": "markdown",
      "source": [
        "  ### **Steps:**\n",
        "  This code will do the following\n",
        "  \n",
        "  1.   The input text is segmented, sentence by sentence (with Spacy).\n",
        "  2.   Each sentence is read and searched for all LOC named entities (with Spacy). It is possible to replace the used model with another one. A blacklist of unwanted terms can be customized by the user.\n",
        "  3.   For each found entity, the script searches for the geographical coordinates. It uses Geonamescache DB as primary source (Geonames is a global database of places (cities, rivers, mountains...). If no results, it connects to the Nominatim server in order to geocode the locations (Nominatim is a geocoding service based on the collaborative OpenStreetMap project).\n",
        "  4.   If at least one named entity is found in a sentence, a new function analyzes the positive, negative and neutral sentiments of the whole sentence (using Bert-base-multilingual-uncased-sentiment - can be customized).\n",
        "  5.   Using the library Folium (based on LeafLet, an open-source JavaScript library for creating interactive maps), the script displays on a map the named entities found. The color of each icon is calculated according to the average sentiment of this entity in the whole text: green for positive, red for negative and gray for neutral. The size of the icon is proportional to the number of its occurrences in the whole text. For each icon, a popup shows the place name, the occurences number, the number of positive, negative and neutral sentiments in the input text.\n",
        "  6.   The script saves each entity in an output csv file: file, sentence, sentiment, lat and long."
      ],
      "metadata": {
        "id": "pvj9muyGBIbB"
      }
    },
    {
      "cell_type": "markdown",
      "source": [
        "---"
      ],
      "metadata": {
        "id": "aPt8FcBdMFzG"
      }
    },
    {
      "cell_type": "code",
      "source": [
        "%%capture\n",
        "!pip install -q folium\n",
        "import folium\n",
        "from folium import plugins\n",
        "from datetime import datetime, timedelta\n",
        "import matplotlib.pyplot as plt"
      ],
      "metadata": {
        "id": "JhTN91US3cJm"
      },
      "execution_count": null,
      "outputs": []
    },
    {
      "cell_type": "markdown",
      "source": [
        "## `1) Load the named entity recognition model`:"
      ],
      "metadata": {
        "id": "dZiSybGUWWzU"
      }
    },
    {
      "cell_type": "code",
      "source": [
        "%%capture\n",
        "!pip install -q spacy\n",
        "! python -m spacy download fr_core_news_md\n",
        "#! python -m spacy download en_core_web_sm\n",
        "\n",
        "import spacy\n",
        "from spacy import displacy\n",
        "from spacy.pipeline import EntityRuler\n",
        "\n",
        "nlp = spacy.load('fr_core_news_md')\n",
        "#nlp = spacy.load('en_core_web_sm')\n",
        "nlp.max_length = 1500000 # pour les gros fichiers au delà d'un million de mots"
      ],
      "metadata": {
        "id": "49inDm5O590b"
      },
      "execution_count": null,
      "outputs": []
    },
    {
      "cell_type": "markdown",
      "source": [
        "## `2) Load a list of named entity terms to \"exclude\"`:\n"
      ],
      "metadata": {
        "id": "NlN7ktBuW9OD"
      }
    },
    {
      "cell_type": "code",
      "source": [
        "blacklist = [\"XVIIIe\", \"XVIe\"] # juste pour exemple\n",
        "\n",
        "# on peut aussi faire appel à un fichier externe:\n",
        "\n",
        "#with open(\"blacklist.txt\", \"r\", encoding='utf-8') as file:\n",
        "#  blacklist = [word.strip() for word in file.readlines()]\n",
        "\n",
        "# Ou bien à un fichier sur le drive:\n",
        "#from google.colab import files, output\n",
        "#print(\"Please upload the blacklist:\")\n",
        "#uploaded_blacklist = files.upload()\n",
        "#blacklist = []\n",
        "#if len(uploaded_blacklist.keys()) > 0:\n",
        "#    blacklist_filename = list(uploaded_blacklist.keys())[0]\n",
        "#    blacklist_content = uploaded_blacklist[blacklist_filename].decode(\"utf-8\")\n",
        "#    blacklist = blacklist_content.splitlines()"
      ],
      "metadata": {
        "id": "vVhEX-E-Teox"
      },
      "execution_count": null,
      "outputs": []
    },
    {
      "cell_type": "markdown",
      "source": [
        "## `3) Load a list of named entity terms to \"include\"`:"
      ],
      "metadata": {
        "id": "uFrJOf0fAuTz"
      }
    },
    {
      "cell_type": "code",
      "source": [
        "patterns = [\n",
        "    {\"label\": \"GPE\", \"pattern\": \"a11bc22\"},\n",
        "    {\"label\": \"GPE\", \"pattern\": [{\"LOWER\": \"chez\"}, {\"LOWER\": \"moi\"}]} #{\"OP\": \"*\"}    Permet des MWE\n",
        "    #{\"label\": \"ANNEE\", \"pattern\": [{\"TEXT\": {\"REGEX\": r\"^\\d{4}$\"}}]},  # Années (ex. 2023)\n",
        "    #{\"label\": \"MOD\", \"pattern\": \"LEMMA\": \"aimer\"}\n",
        "]\n",
        "ruler = nlp.add_pipe(\"entity_ruler\", before=\"ner\")  # Ajout avant le composant NER\n",
        "ruler.add_patterns(patterns)"
      ],
      "metadata": {
        "id": "NHKxkW2aA0pH"
      },
      "execution_count": null,
      "outputs": []
    },
    {
      "cell_type": "markdown",
      "source": [
        "## `4) Load the sentiment analysis model`:"
      ],
      "metadata": {
        "id": "zMqhEdVqW2fD"
      }
    },
    {
      "cell_type": "code",
      "source": [
        "%%capture\n",
        "!pip install --upgrade tensorflow transformers\n",
        "from transformers import pipeline\n",
        "sentiment_analysis_model = pipeline(\"sentiment-analysis\", model=\"nlptown/bert-base-multilingual-uncased-sentiment\", framework=\"pt\")  # pt pytorch / tf TensorFlow\n",
        "#sentiment_analysis_model = pipeline(\"sentiment-analysis\", model=\"bert-base-uncased\", framework=\"pt\")\n",
        "# L'utilisateur peut aussi charger son propre modèle."
      ],
      "metadata": {
        "id": "CdZ0DDNqF9oS"
      },
      "execution_count": null,
      "outputs": []
    },
    {
      "cell_type": "markdown",
      "source": [
        "## `5) Segment the text into sentences`:"
      ],
      "metadata": {
        "id": "OqHLs7JJXXkt"
      }
    },
    {
      "cell_type": "code",
      "source": [
        "def segmenter_en_phrases(text):\n",
        "  all_sentences = []\n",
        "  text = text.replace('’', \"'\") # normalisation\n",
        "  text = text.replace('“', '\"')\n",
        "  text = text.replace('”', '\"')\n",
        "  text = text.replace('‘', \"'\")\n",
        "  text = text.replace(\"\\r\", \" \").replace(\"\\n\", \" \") # enlever les retours à la ligne\n",
        "  text = text.replace(\"  \", \" \")\n",
        "  text = text.strip()\n",
        "  doc = nlp(text)\n",
        "  sentences = [sent.text for sent in doc.sents]\n",
        "  all_sentences.extend(sentences)\n",
        "  #print(all_sentences) # toutes les phrases du corpus dans une liste\n",
        "  return all_sentences"
      ],
      "metadata": {
        "id": "hxrm2QJM-Zwh"
      },
      "execution_count": null,
      "outputs": []
    },
    {
      "cell_type": "markdown",
      "source": [
        "## `6) Process each sentence: named entities, coordinates and sentiments`:"
      ],
      "metadata": {
        "id": "2SCM7AeyXk8U"
      }
    },
    {
      "cell_type": "code",
      "source": [
        "%%capture\n",
        "!pip install -q geonamescache\n",
        "!pip install -q geopy\n",
        "\n",
        "from geopy.geocoders import Nominatim\n",
        "from geopy.exc import GeocoderTimedOut\n",
        "\n",
        "import geonamescache"
      ],
      "metadata": {
        "id": "UQaC9VS8d-Cx"
      },
      "execution_count": null,
      "outputs": []
    },
    {
      "cell_type": "code",
      "source": [
        "def analyze_sentence(sentence):\n",
        "  doc = nlp(sentence)\n",
        "  analyzed_sentence = []\n",
        "  entities = []\n",
        "  latitude = None\n",
        "  longitude = None\n",
        "  sentiment_score_sentence = 0\n",
        "  sentiment_label_sentence = \"\"\n",
        "\n",
        "  for ent in doc.ents:\n",
        "      if ent.label_ in {\"LOC\", \"GPE\"}:  # je ne prends pas les autres types d'entités (PER, ORG...)\n",
        "        #print(ent.label_)\n",
        "        if ent.text.lower() not in blacklist:\n",
        "            entities.append((ent.text, ent.start, ent.end))\n",
        "\n",
        "            # La méthode pour la géolocalisation:\n",
        "            # J'utilise geonamescache (geonames.db est plus complet mais plus lourd),\n",
        "            # Si on n'y trouve pas l'EN, on fait appel à l'API Nominatim (ce sera sûrement moins de requête dans ce cas là).\n",
        "\n",
        "            # Charger la bdd geonames:\n",
        "            gc = geonamescache.GeonamesCache()\n",
        "            matching_cities = gc.get_cities_by_name(ent.text)\n",
        "\n",
        "            if matching_cities:\n",
        "                first_matching_city = list(matching_cities[0].values())[0]\n",
        "                latitude = first_matching_city['latitude']\n",
        "                longitude = first_matching_city['longitude']\n",
        "            else:\n",
        "                # Si la ville n'est pas trouvée dans geonamescache, utiliser Nominatim comme une deuxième option:\n",
        "                geolocator = Nominatim(user_agent='my-app', timeout=10)\n",
        "                try:\n",
        "                    location = geolocator.geocode(ent.text)\n",
        "                    if location:\n",
        "                      latitude = location.latitude\n",
        "                      longitude = location.longitude\n",
        "                    else:\n",
        "                      raise GeocoderTimedOut(\"Geocoding timed out for location using Nominatim: \" + ent.text)\n",
        "                except GeocoderTimedOut as e:\n",
        "                #except (GeocoderTimedOut, Exception) as e:\n",
        "                  #print(f\"Error geocoding {location}: {e}\")\n",
        "                  #print(f\"Geocoding timed out for location using Nominatim: {ent.text}\")\n",
        "                  latitude = None\n",
        "                  longitude = None\n",
        "                  location = None\n",
        "\n",
        "            if entities and latitude and longitude:\n",
        "              sentiment_score_sentence = sentiment_analysis_model(sentence)[0][\"score\"]\n",
        "              sentiment_label_sentence = sentiment_analysis_model(sentence)[0]['label']\n",
        "            result = {\n",
        "                \"entity\": ent.text,\n",
        "                \"sentiment_label_sentence\": sentiment_label_sentence,\n",
        "                \"sentiment_score_sentence\": sentiment_score_sentence,\n",
        "                \"latitude\": latitude,\n",
        "                \"longitude\": longitude\n",
        "            }\n",
        "            analyzed_sentence.append(result)\n",
        "\n",
        "  return analyzed_sentence"
      ],
      "metadata": {
        "id": "cIVKs_lN9qFe"
      },
      "execution_count": null,
      "outputs": []
    },
    {
      "cell_type": "markdown",
      "source": [
        "## `7) Load the corpus: choose one of these three options`:  ⚠"
      ],
      "metadata": {
        "id": "LJ6hmX2TY6HM"
      }
    },
    {
      "cell_type": "markdown",
      "source": [
        "### 7-1) The input text is provided in the code\n"
      ],
      "metadata": {
        "id": "EYyv83tUXuir"
      }
    },
    {
      "cell_type": "code",
      "source": [
        "# Option 1: charger le texte en dur (hardcoded text):\n",
        "\n",
        "#text = \"\"\"J'adore Paris pour son atmosphère romantique et ses délicieuses pâtisseries.\n",
        "#New York m'impressionne avec ses gratte-ciel imposants, mais je trouve la ville un peu trop bruyante à mon goût.\n",
        "#La campagne française est d'une beauté paisible qui apaise l'âme.\n",
        "#Je suis neutre à l'égard de Los Angeles, la ville a ses avantages, mais le trafic peut être vraiment agaçant.\n",
        "#Venise m'a profondément ému avec ses canaux pittoresques et son histoire fascinante.\n",
        "#Londres a une ambiance unique qui me rend nostalgique de mes voyages passés.\n",
        "#Je n'aime pas du tout les hivers rigoureux de Montréal, mais l'été est absolument charmant.\n",
        "#La plage de Bali est un véritable paradis, et j'adore passer du temps là-bas.\n",
        "#Les déserts du Sahara sont à couper le souffle, mais la chaleur peut être accablante.\n",
        "#Tokyo m'a laissé une impression mitigée, certains quartiers sont incroyablement modernes, tandis que d'autres conservent une atmosphère traditionnelle qui est fascinante.\"\"\"\n",
        "\n",
        "#all_sentences = segmenter_en_phrases(text)"
      ],
      "metadata": {
        "id": "-JFfBZvAMYQ1"
      },
      "execution_count": null,
      "outputs": []
    },
    {
      "cell_type": "markdown",
      "source": [
        "### 7-2) The text is a file on the PC"
      ],
      "metadata": {
        "id": "WdDNeunHJx2B"
      }
    },
    {
      "cell_type": "code",
      "source": [
        "# Download this text https://ws-export.wmcloud.org/?lang=fr&title=Le_Tour_du_monde_en_quatre-vingts_jours and upload it here:\n",
        "import os\n",
        "from google.colab import files, output\n",
        "uploaded = files.upload()\n",
        "file_name = next(iter(uploaded))\n",
        "if os.path.isfile(file_name) and file_name.endswith(\".txt\"):\n",
        "  with open(file_name, \"r\", encoding=\"utf-8\") as file:\n",
        "    text = file.read()\n",
        "    all_sentences = segmenter_en_phrases(text)\n",
        "else:\n",
        "  print(f\"Le fichier {file_name} n'est pas au format .txt et ne sera pas traité.\")"
      ],
      "metadata": {
        "id": "BZgUwJO8MYJD",
        "colab": {
          "base_uri": "https://localhost:8080/",
          "height": 73
        },
        "outputId": "c03f31c3-e77e-419b-8aa9-c6e0466ab288"
      },
      "execution_count": null,
      "outputs": [
        {
          "output_type": "display_data",
          "data": {
            "text/plain": [
              "<IPython.core.display.HTML object>"
            ],
            "text/html": [
              "\n",
              "     <input type=\"file\" id=\"files-d6beea5f-ee3d-42f0-82a6-5b915d1f5d9a\" name=\"files[]\" multiple disabled\n",
              "        style=\"border:none\" />\n",
              "     <output id=\"result-d6beea5f-ee3d-42f0-82a6-5b915d1f5d9a\">\n",
              "      Upload widget is only available when the cell has been executed in the\n",
              "      current browser session. Please rerun this cell to enable.\n",
              "      </output>\n",
              "      <script>// Copyright 2017 Google LLC\n",
              "//\n",
              "// Licensed under the Apache License, Version 2.0 (the \"License\");\n",
              "// you may not use this file except in compliance with the License.\n",
              "// You may obtain a copy of the License at\n",
              "//\n",
              "//      http://www.apache.org/licenses/LICENSE-2.0\n",
              "//\n",
              "// Unless required by applicable law or agreed to in writing, software\n",
              "// distributed under the License is distributed on an \"AS IS\" BASIS,\n",
              "// WITHOUT WARRANTIES OR CONDITIONS OF ANY KIND, either express or implied.\n",
              "// See the License for the specific language governing permissions and\n",
              "// limitations under the License.\n",
              "\n",
              "/**\n",
              " * @fileoverview Helpers for google.colab Python module.\n",
              " */\n",
              "(function(scope) {\n",
              "function span(text, styleAttributes = {}) {\n",
              "  const element = document.createElement('span');\n",
              "  element.textContent = text;\n",
              "  for (const key of Object.keys(styleAttributes)) {\n",
              "    element.style[key] = styleAttributes[key];\n",
              "  }\n",
              "  return element;\n",
              "}\n",
              "\n",
              "// Max number of bytes which will be uploaded at a time.\n",
              "const MAX_PAYLOAD_SIZE = 100 * 1024;\n",
              "\n",
              "function _uploadFiles(inputId, outputId) {\n",
              "  const steps = uploadFilesStep(inputId, outputId);\n",
              "  const outputElement = document.getElementById(outputId);\n",
              "  // Cache steps on the outputElement to make it available for the next call\n",
              "  // to uploadFilesContinue from Python.\n",
              "  outputElement.steps = steps;\n",
              "\n",
              "  return _uploadFilesContinue(outputId);\n",
              "}\n",
              "\n",
              "// This is roughly an async generator (not supported in the browser yet),\n",
              "// where there are multiple asynchronous steps and the Python side is going\n",
              "// to poll for completion of each step.\n",
              "// This uses a Promise to block the python side on completion of each step,\n",
              "// then passes the result of the previous step as the input to the next step.\n",
              "function _uploadFilesContinue(outputId) {\n",
              "  const outputElement = document.getElementById(outputId);\n",
              "  const steps = outputElement.steps;\n",
              "\n",
              "  const next = steps.next(outputElement.lastPromiseValue);\n",
              "  return Promise.resolve(next.value.promise).then((value) => {\n",
              "    // Cache the last promise value to make it available to the next\n",
              "    // step of the generator.\n",
              "    outputElement.lastPromiseValue = value;\n",
              "    return next.value.response;\n",
              "  });\n",
              "}\n",
              "\n",
              "/**\n",
              " * Generator function which is called between each async step of the upload\n",
              " * process.\n",
              " * @param {string} inputId Element ID of the input file picker element.\n",
              " * @param {string} outputId Element ID of the output display.\n",
              " * @return {!Iterable<!Object>} Iterable of next steps.\n",
              " */\n",
              "function* uploadFilesStep(inputId, outputId) {\n",
              "  const inputElement = document.getElementById(inputId);\n",
              "  inputElement.disabled = false;\n",
              "\n",
              "  const outputElement = document.getElementById(outputId);\n",
              "  outputElement.innerHTML = '';\n",
              "\n",
              "  const pickedPromise = new Promise((resolve) => {\n",
              "    inputElement.addEventListener('change', (e) => {\n",
              "      resolve(e.target.files);\n",
              "    });\n",
              "  });\n",
              "\n",
              "  const cancel = document.createElement('button');\n",
              "  inputElement.parentElement.appendChild(cancel);\n",
              "  cancel.textContent = 'Cancel upload';\n",
              "  const cancelPromise = new Promise((resolve) => {\n",
              "    cancel.onclick = () => {\n",
              "      resolve(null);\n",
              "    };\n",
              "  });\n",
              "\n",
              "  // Wait for the user to pick the files.\n",
              "  const files = yield {\n",
              "    promise: Promise.race([pickedPromise, cancelPromise]),\n",
              "    response: {\n",
              "      action: 'starting',\n",
              "    }\n",
              "  };\n",
              "\n",
              "  cancel.remove();\n",
              "\n",
              "  // Disable the input element since further picks are not allowed.\n",
              "  inputElement.disabled = true;\n",
              "\n",
              "  if (!files) {\n",
              "    return {\n",
              "      response: {\n",
              "        action: 'complete',\n",
              "      }\n",
              "    };\n",
              "  }\n",
              "\n",
              "  for (const file of files) {\n",
              "    const li = document.createElement('li');\n",
              "    li.append(span(file.name, {fontWeight: 'bold'}));\n",
              "    li.append(span(\n",
              "        `(${file.type || 'n/a'}) - ${file.size} bytes, ` +\n",
              "        `last modified: ${\n",
              "            file.lastModifiedDate ? file.lastModifiedDate.toLocaleDateString() :\n",
              "                                    'n/a'} - `));\n",
              "    const percent = span('0% done');\n",
              "    li.appendChild(percent);\n",
              "\n",
              "    outputElement.appendChild(li);\n",
              "\n",
              "    const fileDataPromise = new Promise((resolve) => {\n",
              "      const reader = new FileReader();\n",
              "      reader.onload = (e) => {\n",
              "        resolve(e.target.result);\n",
              "      };\n",
              "      reader.readAsArrayBuffer(file);\n",
              "    });\n",
              "    // Wait for the data to be ready.\n",
              "    let fileData = yield {\n",
              "      promise: fileDataPromise,\n",
              "      response: {\n",
              "        action: 'continue',\n",
              "      }\n",
              "    };\n",
              "\n",
              "    // Use a chunked sending to avoid message size limits. See b/62115660.\n",
              "    let position = 0;\n",
              "    do {\n",
              "      const length = Math.min(fileData.byteLength - position, MAX_PAYLOAD_SIZE);\n",
              "      const chunk = new Uint8Array(fileData, position, length);\n",
              "      position += length;\n",
              "\n",
              "      const base64 = btoa(String.fromCharCode.apply(null, chunk));\n",
              "      yield {\n",
              "        response: {\n",
              "          action: 'append',\n",
              "          file: file.name,\n",
              "          data: base64,\n",
              "        },\n",
              "      };\n",
              "\n",
              "      let percentDone = fileData.byteLength === 0 ?\n",
              "          100 :\n",
              "          Math.round((position / fileData.byteLength) * 100);\n",
              "      percent.textContent = `${percentDone}% done`;\n",
              "\n",
              "    } while (position < fileData.byteLength);\n",
              "  }\n",
              "\n",
              "  // All done.\n",
              "  yield {\n",
              "    response: {\n",
              "      action: 'complete',\n",
              "    }\n",
              "  };\n",
              "}\n",
              "\n",
              "scope.google = scope.google || {};\n",
              "scope.google.colab = scope.google.colab || {};\n",
              "scope.google.colab._files = {\n",
              "  _uploadFiles,\n",
              "  _uploadFilesContinue,\n",
              "};\n",
              "})(self);\n",
              "</script> "
            ]
          },
          "metadata": {}
        },
        {
          "output_type": "stream",
          "name": "stdout",
          "text": [
            "Saving Le Tour du monde en quatre-ving - Jules Verne.txt to Le Tour du monde en quatre-ving - Jules Verne (1).txt\n"
          ]
        }
      ]
    },
    {
      "cell_type": "markdown",
      "source": [
        "### 7-3) The text is a file on the Drive\n"
      ],
      "metadata": {
        "id": "LVIoh-NfY7zq"
      }
    },
    {
      "cell_type": "code",
      "source": [
        "# Option 3: charger le texte à partir du drive:\n",
        "#from google.colab import drive\n",
        "#drive.mount('/content/drive')\n",
        "#directory = \"/content/drive/MyDrive/Colab_Notebooks/Tanagra/input/\"\n",
        "#for filename in os.listdir(directory): #pas besoin finalement de parcourir un dossier car on prend uniquement un seul texte.\n",
        "#    file_path = os.path.join(directory, filename)\n",
        "#    if os.path.isfile(file_path) and filename.endswith(\".txt\"):\n",
        "#      with open(path, 'r', encoding='utf-8') as file:\n",
        "#        text = file.read()\n",
        "#        all_sentences = segmenter_en_phrases(file_path)"
      ],
      "metadata": {
        "id": "Nd6kNU6lMYBj"
      },
      "execution_count": null,
      "outputs": []
    },
    {
      "cell_type": "markdown",
      "source": [
        "### 7-4) The text is online"
      ],
      "metadata": {
        "id": "TzcvIT89CYMU"
      }
    },
    {
      "cell_type": "code",
      "source": [
        "#import requests\n",
        "#url = \"https://www.gutenberg.org/cache/epub/800/pg800.txt\"  # l tour du monde...\n",
        "\n",
        "#response = requests.get(url)\n",
        "#if response.status_code == 200:\n",
        "#    text = response.text\n",
        "#    print(\"Texte importé avec succès !\")\n",
        "#else:\n",
        "#    print(f\"Erreur lors de la récupération : {response.status_code}\")\n",
        "\n",
        "#all_sentences = segmenter_en_phrases(text)"
      ],
      "metadata": {
        "id": "90Cmli9zCclV"
      },
      "execution_count": null,
      "outputs": []
    },
    {
      "cell_type": "markdown",
      "source": [
        "## `8) Iterate over text and aggregate the results`:"
      ],
      "metadata": {
        "id": "HsDedncQZQXe"
      }
    },
    {
      "cell_type": "code",
      "source": [
        "import csv\n",
        "from tqdm import tqdm\n",
        "# Spécifier ici une limite de phrases à traiter (pour réduire le temps de traitement) :\n",
        "limite = 100\n",
        "\n",
        "# Save entity information to a CSV file\n",
        "analyzed_sentences = []\n",
        "\n",
        "with open('output.csv', 'w', newline='', encoding='utf-8') as csvfile:\n",
        "    writer = csv.writer(csvfile, delimiter=\"\\t\")\n",
        "    writer.writerow(['sentence', 'entity', 'label', 'score', 'latitude', 'longitude'])\n",
        "\n",
        "    counter = 0\n",
        "    # Ajoutez tqdm pour afficher la barre de progression\n",
        "    for sentence in tqdm(all_sentences[:limite], desc=\"Traitement des phrases\"):\n",
        "        if counter >= limite:  # Limite maximale de phrases à analyser\n",
        "            break\n",
        "        analyzed_sentence = analyze_sentence(sentence)\n",
        "        for result in analyzed_sentence:\n",
        "            entity = result[\"entity\"]\n",
        "            sentiment_label = result[\"sentiment_label_sentence\"]\n",
        "            sentiment_score = result[\"sentiment_score_sentence\"]\n",
        "            latitude = result[\"latitude\"]\n",
        "            longitude = result[\"longitude\"]\n",
        "\n",
        "            # Vérifier si latitude et longitude sont None\n",
        "            if latitude is None or longitude is None:\n",
        "                #print(f\"Skipping result due to missing location data for entity: {entity}\")\n",
        "                continue  # Passer cette phrase et aller à la suivante\n",
        "\n",
        "            writer.writerow([sentence, entity, sentiment_label, round(sentiment_score, 2), latitude, longitude])\n",
        "            counter += 1\n",
        "            analyzed_sentences.append({\n",
        "                'sentence': sentence,\n",
        "                'entity': entity,\n",
        "                'sentiment_label': sentiment_label,\n",
        "                'sentiment_score': round(sentiment_score, 2),\n",
        "                'latitude': latitude,\n",
        "                'longitude': longitude\n",
        "            })\n",
        "\n",
        "# Iteration sur analyzed_sentences pour créer un dictionnaire des entités\n",
        "entities_dict = {}\n",
        "for sentence_info in analyzed_sentences:\n",
        "    entity = sentence_info['entity']\n",
        "    sentiment_label = sentence_info['sentiment_label']\n",
        "\n",
        "    # Initialiser les informations de l'entité si elle n'existe pas\n",
        "    if entity not in entities_dict:\n",
        "        entities_dict[entity] = {\n",
        "            'latitude': sentence_info['latitude'],\n",
        "            'longitude': sentence_info['longitude'],\n",
        "            'occurrences': 1,\n",
        "            'positive_labels': 0,\n",
        "            'negative_labels': 0,\n",
        "            'neutral_labels': 0,\n",
        "            'overall_sentiment': sentiment_label\n",
        "        }\n",
        "    else:\n",
        "        entities_dict[entity]['occurrences'] += 1\n",
        "\n",
        "    # Mettre à jour les comptes de labels de sentiment\n",
        "    if sentiment_label in ['4 stars', '5 stars']:\n",
        "        entities_dict[entity]['positive_labels'] += 1\n",
        "    elif sentiment_label in ['1 star', '2 stars']:\n",
        "        entities_dict[entity]['negative_labels'] += 1\n",
        "    elif sentiment_label == '3 stars':\n",
        "        entities_dict[entity]['neutral_labels'] += 1\n",
        "\n",
        "# Mise à jour du sentiment global basé sur les comptes\n",
        "for entity in entities_dict:\n",
        "    positive_count = entities_dict[entity]['positive_labels']\n",
        "    negative_count = entities_dict[entity]['negative_labels']\n",
        "    neutral_count = entities_dict[entity]['neutral_labels']\n",
        "\n",
        "    if positive_count > negative_count and positive_count > neutral_count:\n",
        "        entities_dict[entity]['overall_sentiment'] = 'Positive'\n",
        "    elif negative_count > positive_count and negative_count > neutral_count:\n",
        "        entities_dict[entity]['overall_sentiment'] = 'Negative'\n",
        "    elif neutral_count > positive_count and neutral_count > negative_count:\n",
        "        entities_dict[entity]['overall_sentiment'] = 'Neutral'\n",
        "    else:\n",
        "        entities_dict[entity]['overall_sentiment'] = 'Mixed'\n",
        "\n",
        "# Résultat final : vous pouvez afficher ou enregistrer entities_dict si nécessaire\n",
        "#print(entities_dict)"
      ],
      "metadata": {
        "id": "v2dDxL1sMq-W",
        "colab": {
          "base_uri": "https://localhost:8080/"
        },
        "outputId": "72dbeb67-9a52-4ba2-d066-c3ab24b1ae6c"
      },
      "execution_count": null,
      "outputs": [
        {
          "output_type": "stream",
          "name": "stderr",
          "text": [
            "Traitement des phrases: 100%|██████████| 100/100 [00:28<00:00,  3.45it/s]\n"
          ]
        }
      ]
    },
    {
      "cell_type": "markdown",
      "source": [
        "* On peut filtrer à la main entities_dict, corriger par ChatGPT, et remettre la liste corrigées d'EN et de coordonnées"
      ],
      "metadata": {
        "id": "iTEabFGidNzx"
      }
    },
    {
      "cell_type": "markdown",
      "source": [
        "## `9) Visualization`:"
      ],
      "metadata": {
        "id": "VRkEncFuZcAy"
      }
    },
    {
      "cell_type": "code",
      "source": [
        "# Initialiser le map\n",
        "# map_center = [20, 0]  # [48.8566, 2.3522]\n",
        "# map_zoom = 2.5\n",
        "# Les thèmes:\n",
        "# map = folium.Map(location=map_center, zoom_start=map_zoom)\n",
        "# map = folium.Map(location=map_center, zoom_start=map_zoom, tiles='Stamen Terrain')\n",
        "# map = folium.Map(location=map_center, zoom_start=map_zoom, tiles='Stamen Toner')\n",
        "# map = folium.Map(location=map_center, zoom_start=map_zoom, tiles='Stamen Watercolor')\n",
        "# map = folium.Map(location=map_center, zoom_start=map_zoom, tiles='CartoDB Dark_Matter')\n",
        "# map = folium.Map(location=map_center, zoom_start=map_zoom, tiles='CartoDB Positron')  # , width='50%', height='50%')\n",
        "\n",
        "# parcourir les entités\n",
        "# for entity, info in entities_dict.items():\n",
        "#     latitude = info['latitude']\n",
        "#     longitude = info['longitude']\n",
        "#     occurrences = info['occurrences']\n",
        "#     overall_sentiment = info['overall_sentiment']\n",
        "#     positive_labels = info['positive_labels']\n",
        "#     negative_labels = info['negative_labels']\n",
        "#     neutral_labels = info['neutral_labels']\n",
        "\n",
        "#     # Déterminer la couleur de l'entité selon le sentiment général\n",
        "#     if overall_sentiment == 'Positive':\n",
        "#         color = 'green'\n",
        "#     elif overall_sentiment == 'Negative':\n",
        "#         color = 'red'\n",
        "#     elif overall_sentiment == 'Neutral':\n",
        "#         color = 'gray'\n",
        "#     elif overall_sentiment == 'Mixed':\n",
        "#         color = 'blueviolet'\n",
        "#     else:\n",
        "#         color = 'blue'\n",
        "\n",
        "#     scaling_factor = 5  # Ajuster le size scaling des icones\n",
        "#     size = int(occurrences) * scaling_factor\n",
        "\n",
        "#     # Créer la pop up des icones\n",
        "#     popup = f\"<div style='width: 110px; height: 80px;'>\"\n",
        "#     popup += f\"<b>Entity:</b> {entity}<br>\"\n",
        "#     popup += f\"<b>Occurrences:</b> {occurrences}<br>\"\n",
        "#     popup += f\"<b>Sentiment:</b> {overall_sentiment}<br>\"\n",
        "#     popup += f\"<b>Positive:</b> {positive_labels}<br>\"\n",
        "#     popup += f\"<b>Negative:</b> {negative_labels}<br>\"\n",
        "#     popup += f\"<b>Neutral:</b> {neutral_labels}<br>\"\n",
        "#     popup += \"</div>\"\n",
        "\n",
        "#     folium.CircleMarker(\n",
        "#         location=[latitude, longitude],\n",
        "#         radius=size,\n",
        "#         popup=popup,\n",
        "#         color=color,\n",
        "#         fill=True,\n",
        "#         fill_color=color,\n",
        "#         tooltip=entity\n",
        "#     ).add_to(map)\n",
        "\n",
        "# Création de la légende de tous les résultats:\n",
        "# total_entities = len(entities_dict)\n",
        "# total_positive = sum(info['positive_labels'] for info in entities_dict.values())\n",
        "# total_negative = sum(info['negative_labels'] for info in entities_dict.values())\n",
        "# total_neutral = sum(info['neutral_labels'] for info in entities_dict.values())\n",
        "# total_sentiments = total_positive + total_negative + total_neutral\n",
        "# html_text = \"\"\"\n",
        "#     <div style=\"position: absolute;\n",
        "#                 top: 50%; left: 0; transform: translate(0, -50%);\n",
        "#                 z-index: 1000; background-color: white; border: 2px solid #ccc;\n",
        "#                 padding: 10px; font-family: 'Trebuchet MS', sans-serif;\">\n",
        "#     <h4>Annotation Results:</h4>\n",
        "#     <b>Total Entities: {}<br>\n",
        "#     <b>Total Sentiments: {}<br>\n",
        "#     <ul>\n",
        "#     <li>Positive: {}</li>\n",
        "#     <li>Negative: {}</li>\n",
        "#     <li>Neutral: {}</li>\n",
        "#     </ul>\n",
        "#     </div>\n",
        "#     \"\"\".format(total_entities, total_sentiments, total_positive, total_negative, total_neutral)\n",
        "\n",
        "# Graphique Camembert: afficher la répartition des sentiments\n",
        "# import matplotlib.pyplot as plt\n",
        "# labels = ['Negative', 'Neutral', 'Positive']\n",
        "# sizes = [total_negative, total_neutral, total_positive]\n",
        "# colors = ['red', 'gray', 'green']\n",
        "# plt.pie(sizes, labels=labels, colors=colors, autopct='%1.1f%%', startangle=140)\n",
        "# plt.title('Répartition des sentiments')\n",
        "# plt.setp(plt.gca().get_xticklabels(), fontsize=12)\n",
        "# plt.setp(plt.gca().get_yticklabels(), fontsize=12)\n",
        "# plt.show()\n",
        "\n",
        "# Ajouter la légende à la carte\n",
        "# map.get_root().html.add_child(folium.Element(html_text))\n",
        "\n",
        "# map.save(\"map.html\")  # enregistrer le fichier sur le disque\n",
        "# map  # afficher sans enregistrement"
      ],
      "metadata": {
        "id": "DUmP18ey7xTh"
      },
      "execution_count": null,
      "outputs": []
    },
    {
      "cell_type": "markdown",
      "source": [
        "## `9) Visualisation - Timeline`:"
      ],
      "metadata": {
        "id": "zQJgXvwr8IlR"
      }
    },
    {
      "cell_type": "code",
      "source": [
        "# Sentiment counts initialization\n",
        "sentiment_counts = {\n",
        "    'Positive': 0,\n",
        "    'Negative': 0,\n",
        "    'Neutral': 0,\n",
        "    'Mixed': 0\n",
        "}\n",
        "\n",
        "# Map configuration\n",
        "map_center = [20, 0]\n",
        "map_zoom = 2.5\n",
        "#map = folium.Map(location=map_center, zoom_start=map_zoom)\n",
        "map = folium.Map(location=map_center, zoom_start=map_zoom, tiles='CartoDB Positron')\n",
        "\n",
        "# Function to determine marker color based on sentiment\n",
        "def get_color(sentiment):\n",
        "    if sentiment == 'Positive':\n",
        "        return 'green'\n",
        "    elif sentiment == 'Negative':\n",
        "        return 'red'\n",
        "    elif sentiment == 'Neutral':\n",
        "        return 'gray'\n",
        "    elif sentiment == 'Mixed':\n",
        "        return 'blueviolet'\n",
        "    else:\n",
        "        return 'blue'\n",
        "\n",
        "# Features for the map\n",
        "features = []\n",
        "base_time = datetime.now()\n",
        "\n",
        "# Sort entities based on first occurrence\n",
        "sorted_entities = sorted(entities_dict.items(), key=lambda x: x[1].get('first_occurrence', 0))\n",
        "\n",
        "# Determine the maximum occurrences for scaling\n",
        "max_occurrences = max(info['occurrences'] for info in entities_dict.values())\n",
        "\n",
        "for idx, (entity, info) in enumerate(sorted_entities):\n",
        "    latitude = info['latitude']\n",
        "    longitude = info['longitude']\n",
        "    occurrences = info['occurrences']\n",
        "    overall_sentiment = info['overall_sentiment']\n",
        "    positive_labels = info['positive_labels']\n",
        "    negative_labels = info['negative_labels']\n",
        "    neutral_labels = info['neutral_labels']\n",
        "\n",
        "    # Increment sentiment counts\n",
        "    sentiment_counts[overall_sentiment] += 1\n",
        "\n",
        "    # Adjust marker size relative to maximum occurrences\n",
        "    scaling_factor = 20\n",
        "    radius = (occurrences / max_occurrences) * scaling_factor\n",
        "\n",
        "    # Time for animation\n",
        "    event_time = base_time + timedelta(seconds=idx * 2)\n",
        "\n",
        "    # Popup content\n",
        "    popup_html = f\"\"\"\n",
        "    <div style='width: 200px;'>\n",
        "        <h4 style='margin:0; color:#2c3e50;'>{entity}</h4>\n",
        "        <hr style='margin:5px 0;'>\n",
        "        <p style='margin:5px 0;'><b>Occurrences:</b> {occurrences}</p>\n",
        "        <p style='margin:5px 0;'><b>Sentiment:</b> {overall_sentiment}</p>\n",
        "        <div style='margin-top:8px;'>\n",
        "            <div style='color:green;'>Positive: {positive_labels}</div>\n",
        "            <div style='color:red;'>Negative: {negative_labels}</div>\n",
        "            <div style='color:gray;'>Neutral: {neutral_labels}</div>\n",
        "        </div>\n",
        "    </div>\n",
        "    \"\"\"\n",
        "\n",
        "    # Feature for the map\n",
        "    feature = {\n",
        "        \"type\": \"Feature\",\n",
        "        \"geometry\": {\n",
        "            \"type\": \"Point\",\n",
        "            \"coordinates\": [longitude, latitude],\n",
        "        },\n",
        "        \"properties\": {\n",
        "            \"time\": event_time.isoformat(),\n",
        "            \"style\": {\n",
        "                \"color\": get_color(overall_sentiment),\n",
        "                \"fillColor\": get_color(overall_sentiment),\n",
        "                \"fillOpacity\": 0.3,\n",
        "                \"weight\": 2,\n",
        "                \"radius\": radius,\n",
        "            },\n",
        "            \"popup\": popup_html,\n",
        "            \"icon\": \"circle\"\n",
        "        }\n",
        "    }\n",
        "    features.append(feature)\n",
        "\n",
        "# Calculate totals\n",
        "total_entities = len(entities_dict)\n",
        "total_positive = sum(info['positive_labels'] for info in entities_dict.values())\n",
        "total_negative = sum(info['negative_labels'] for info in entities_dict.values())\n",
        "total_neutral = sum(info['neutral_labels'] for info in entities_dict.values())\n",
        "total_sentiments = total_positive + total_negative + total_neutral\n",
        "\n",
        "# Add timestamped GeoJSON to the map\n",
        "timestamped_geojson = plugins.TimestampedGeoJson(\n",
        "    {\n",
        "        \"type\": \"FeatureCollection\",\n",
        "        \"features\": features,\n",
        "    },\n",
        "    period=\"PT1S\",\n",
        "    duration='PT1H',\n",
        "    add_last_point=True,\n",
        "    loop=False,\n",
        "    max_speed=1,\n",
        "    transition_time=100,\n",
        "    auto_play=True,\n",
        "    loop_button=True,\n",
        "    date_options='YYYY/MM/DD HH:mm:ss',\n",
        "    time_slider_drag_update=True\n",
        ")\n",
        "timestamped_geojson.add_to(map)\n",
        "\n",
        "# Enhanced legend with all counters\n",
        "legend_html = f'''\n",
        "<div style=\"\n",
        "    position: fixed;\n",
        "    bottom: 50px; left: 50px; width: 280px;\n",
        "    border:2px solid #888; z-index:9999; font-size:14px;\n",
        "    background-color:white;\n",
        "    padding: 15px;\n",
        "    border-radius: 6px;\n",
        "    box-shadow: 0 2px 5px rgba(0,0,0,0.1);\n",
        "\">\n",
        "    <h4 style=\"margin-top:0; color:#2c3e50;\"><b>Annotation results</b></h4>\n",
        "    <div style=\"margin:10px 0;\">\n",
        "        <div style=\"font-weight:bold; margin-bottom:5px;\">Entity statistics:</div>\n",
        "        <div>Total unique entities: {total_entities}</div>\n",
        "        <div>Total sentiment labels: {total_sentiments}</div>\n",
        "    </div>\n",
        "    <div style=\"margin:10px 0;\">\n",
        "        <div style=\"font-weight:bold; margin-bottom:5px;\">Sentiment distribution:</div>\n",
        "        <ul style=\"list-style-type: none; padding-left: 0; margin: 5px 0;\">\n",
        "            <li style=\"margin:3px 0;\"><i class=\"fa fa-circle fa-1x\" style=\"color:green\"></i>&nbsp;Positive: {total_positive}</li>\n",
        "            <li style=\"margin:3px 0;\"><i class=\"fa fa-circle fa-1x\" style=\"color:red\"></i>&nbsp;Negative: {total_negative}</li>\n",
        "            <li style=\"margin:3px 0;\"><i class=\"fa fa-circle fa-1x\" style=\"color:gray\"></i>&nbsp;Neutral: {total_neutral}</li>\n",
        "        </ul>\n",
        "    </div>\n",
        "    <div style=\"font-size:12px; color:#666; margin-top:10px;\">\n",
        "        Circle size indicates occurrence frequency\n",
        "    </div>\n",
        "</div>\n",
        "'''\n",
        "map.get_root().html.add_child(folium.Element(legend_html))\n",
        "\n",
        "# Calculate sizes for pie chart using the total counts\n",
        "sizes = [total_negative, total_neutral, total_positive,\n",
        "         sentiment_counts.get('Mixed', 0)]\n",
        "labels = ['Negative', 'Neutral', 'Positive', 'Mixed']\n",
        "colors = ['red', 'gray', 'green', 'blueviolet']\n",
        "\n",
        "# Generate and add pie chart\n",
        "plt.figure(figsize=(8, 8))\n",
        "plt.pie(sizes, labels=labels, colors=colors, autopct='%1.1f%%', startangle=90)\n",
        "plt.axis('equal')\n",
        "plt.title('Sentiment Distribution')\n",
        "plt.savefig('sentiment_distribution.png', bbox_inches='tight', dpi=300)\n",
        "plt.close()\n",
        "\n",
        "# Save the map\n",
        "map.save(\"dynamic_map.html\")\n",
        "\n",
        "# Display the map\n",
        "map"
      ],
      "metadata": {
        "id": "wc9fNn3f5Vft",
        "colab": {
          "base_uri": "https://localhost:8080/",
          "height": 946
        },
        "outputId": "1bb33a97-64ce-4db0-e7a4-9aa30f73adfc"
      },
      "execution_count": null,
      "outputs": [
        {
          "output_type": "execute_result",
          "data": {
            "text/plain": [
              "<folium.folium.Map at 0x7942553ef010>"
            ],
            "text/html": [
              "<div style=\"width:100%;\"><div style=\"position:relative;width:100%;height:0;padding-bottom:60%;\"><span style=\"color:#565656\">Make this Notebook Trusted to load map: File -> Trust Notebook</span><iframe srcdoc=\"&lt;!DOCTYPE html&gt;\n",
              "&lt;html&gt;\n",
              "&lt;head&gt;\n",
              "    \n",
              "    &lt;meta http-equiv=&quot;content-type&quot; content=&quot;text/html; charset=UTF-8&quot; /&gt;\n",
              "    \n",
              "        &lt;script&gt;\n",
              "            L_NO_TOUCH = false;\n",
              "            L_DISABLE_3D = false;\n",
              "        &lt;/script&gt;\n",
              "    \n",
              "    &lt;style&gt;html, body {width: 100%;height: 100%;margin: 0;padding: 0;}&lt;/style&gt;\n",
              "    &lt;style&gt;#map {position:absolute;top:0;bottom:0;right:0;left:0;}&lt;/style&gt;\n",
              "    &lt;script src=&quot;https://cdn.jsdelivr.net/npm/leaflet@1.9.3/dist/leaflet.js&quot;&gt;&lt;/script&gt;\n",
              "    &lt;script src=&quot;https://code.jquery.com/jquery-3.7.1.min.js&quot;&gt;&lt;/script&gt;\n",
              "    &lt;script src=&quot;https://cdn.jsdelivr.net/npm/bootstrap@5.2.2/dist/js/bootstrap.bundle.min.js&quot;&gt;&lt;/script&gt;\n",
              "    &lt;script src=&quot;https://cdnjs.cloudflare.com/ajax/libs/Leaflet.awesome-markers/2.0.2/leaflet.awesome-markers.js&quot;&gt;&lt;/script&gt;\n",
              "    &lt;link rel=&quot;stylesheet&quot; href=&quot;https://cdn.jsdelivr.net/npm/leaflet@1.9.3/dist/leaflet.css&quot;/&gt;\n",
              "    &lt;link rel=&quot;stylesheet&quot; href=&quot;https://cdn.jsdelivr.net/npm/bootstrap@5.2.2/dist/css/bootstrap.min.css&quot;/&gt;\n",
              "    &lt;link rel=&quot;stylesheet&quot; href=&quot;https://netdna.bootstrapcdn.com/bootstrap/3.0.0/css/bootstrap-glyphicons.css&quot;/&gt;\n",
              "    &lt;link rel=&quot;stylesheet&quot; href=&quot;https://cdn.jsdelivr.net/npm/@fortawesome/fontawesome-free@6.2.0/css/all.min.css&quot;/&gt;\n",
              "    &lt;link rel=&quot;stylesheet&quot; href=&quot;https://cdnjs.cloudflare.com/ajax/libs/Leaflet.awesome-markers/2.0.2/leaflet.awesome-markers.css&quot;/&gt;\n",
              "    &lt;link rel=&quot;stylesheet&quot; href=&quot;https://cdn.jsdelivr.net/gh/python-visualization/folium/folium/templates/leaflet.awesome.rotate.min.css&quot;/&gt;\n",
              "    \n",
              "            &lt;meta name=&quot;viewport&quot; content=&quot;width=device-width,\n",
              "                initial-scale=1.0, maximum-scale=1.0, user-scalable=no&quot; /&gt;\n",
              "            &lt;style&gt;\n",
              "                #map_b1f4b91bf9b70e2d396c7cef039db85f {\n",
              "                    position: relative;\n",
              "                    width: 100.0%;\n",
              "                    height: 100.0%;\n",
              "                    left: 0.0%;\n",
              "                    top: 0.0%;\n",
              "                }\n",
              "                .leaflet-container { font-size: 1rem; }\n",
              "            &lt;/style&gt;\n",
              "        \n",
              "    &lt;script src=&quot;https://cdnjs.cloudflare.com/ajax/libs/jquery/3.7.1/jquery.min.js&quot;&gt;&lt;/script&gt;\n",
              "    &lt;script src=&quot;https://cdnjs.cloudflare.com/ajax/libs/jqueryui/1.10.2/jquery-ui.min.js&quot;&gt;&lt;/script&gt;\n",
              "    &lt;script src=&quot;https://cdn.jsdelivr.net/npm/iso8601-js-period@0.2.1/iso8601.min.js&quot;&gt;&lt;/script&gt;\n",
              "    &lt;script src=&quot;https://cdn.jsdelivr.net/npm/leaflet-timedimension@1.1.1/dist/leaflet.timedimension.min.js&quot;&gt;&lt;/script&gt;\n",
              "    &lt;script src=&quot;https://cdnjs.cloudflare.com/ajax/libs/moment.js/2.18.1/moment.min.js&quot;&gt;&lt;/script&gt;\n",
              "    &lt;link rel=&quot;stylesheet&quot; href=&quot;https://cdnjs.cloudflare.com/ajax/libs/highlight.js/8.4/styles/default.min.css&quot;/&gt;\n",
              "    &lt;link rel=&quot;stylesheet&quot; href=&quot;https://cdn.jsdelivr.net/npm/leaflet-timedimension@1.1.1/dist/leaflet.timedimension.control.css&quot;/&gt;\n",
              "&lt;/head&gt;\n",
              "&lt;body&gt;\n",
              "    \n",
              "    \n",
              "&lt;div style=&quot;\n",
              "    position: fixed;\n",
              "    bottom: 50px; left: 50px; width: 280px;\n",
              "    border:2px solid #888; z-index:9999; font-size:14px;\n",
              "    background-color:white;\n",
              "    padding: 15px;\n",
              "    border-radius: 6px;\n",
              "    box-shadow: 0 2px 5px rgba(0,0,0,0.1);\n",
              "&quot;&gt;\n",
              "    &lt;h4 style=&quot;margin-top:0; color:#2c3e50;&quot;&gt;&lt;b&gt;Annotation results&lt;/b&gt;&lt;/h4&gt;\n",
              "    &lt;div style=&quot;margin:10px 0;&quot;&gt;\n",
              "        &lt;div style=&quot;font-weight:bold; margin-bottom:5px;&quot;&gt;Entity statistics:&lt;/div&gt;\n",
              "        &lt;div&gt;Total unique entities: 22&lt;/div&gt;\n",
              "        &lt;div&gt;Total sentiment labels: 30&lt;/div&gt;\n",
              "    &lt;/div&gt;\n",
              "    &lt;div style=&quot;margin:10px 0;&quot;&gt;\n",
              "        &lt;div style=&quot;font-weight:bold; margin-bottom:5px;&quot;&gt;Sentiment distribution:&lt;/div&gt;\n",
              "        &lt;ul style=&quot;list-style-type: none; padding-left: 0; margin: 5px 0;&quot;&gt;\n",
              "            &lt;li style=&quot;margin:3px 0;&quot;&gt;&lt;i class=&quot;fa fa-circle fa-1x&quot; style=&quot;color:green&quot;&gt;&lt;/i&gt;&amp;nbsp;Positive: 13&lt;/li&gt;\n",
              "            &lt;li style=&quot;margin:3px 0;&quot;&gt;&lt;i class=&quot;fa fa-circle fa-1x&quot; style=&quot;color:red&quot;&gt;&lt;/i&gt;&amp;nbsp;Negative: 8&lt;/li&gt;\n",
              "            &lt;li style=&quot;margin:3px 0;&quot;&gt;&lt;i class=&quot;fa fa-circle fa-1x&quot; style=&quot;color:gray&quot;&gt;&lt;/i&gt;&amp;nbsp;Neutral: 9&lt;/li&gt;\n",
              "        &lt;/ul&gt;\n",
              "    &lt;/div&gt;\n",
              "    &lt;div style=&quot;font-size:12px; color:#666; margin-top:10px;&quot;&gt;\n",
              "        Circle size indicates occurrence frequency\n",
              "    &lt;/div&gt;\n",
              "&lt;/div&gt;\n",
              "    \n",
              "            &lt;div class=&quot;folium-map&quot; id=&quot;map_b1f4b91bf9b70e2d396c7cef039db85f&quot; &gt;&lt;/div&gt;\n",
              "        \n",
              "&lt;/body&gt;\n",
              "&lt;script&gt;\n",
              "    \n",
              "    \n",
              "            var map_b1f4b91bf9b70e2d396c7cef039db85f = L.map(\n",
              "                &quot;map_b1f4b91bf9b70e2d396c7cef039db85f&quot;,\n",
              "                {\n",
              "                    center: [20.0, 0.0],\n",
              "                    crs: L.CRS.EPSG3857,\n",
              "                    ...{\n",
              "  &quot;zoom&quot;: 2.5,\n",
              "  &quot;zoomControl&quot;: true,\n",
              "  &quot;preferCanvas&quot;: false,\n",
              "}\n",
              "\n",
              "                }\n",
              "            );\n",
              "\n",
              "            \n",
              "\n",
              "        \n",
              "    \n",
              "            var tile_layer_ef2d76d0851edcac3e9b1c3f56b2b23f = L.tileLayer(\n",
              "                &quot;https://{s}.basemaps.cartocdn.com/light_all/{z}/{x}/{y}{r}.png&quot;,\n",
              "                {\n",
              "  &quot;minZoom&quot;: 0,\n",
              "  &quot;maxZoom&quot;: 20,\n",
              "  &quot;maxNativeZoom&quot;: 20,\n",
              "  &quot;noWrap&quot;: false,\n",
              "  &quot;attribution&quot;: &quot;\\u0026copy; \\u003ca href=\\&quot;https://www.openstreetmap.org/copyright\\&quot;\\u003eOpenStreetMap\\u003c/a\\u003e contributors \\u0026copy; \\u003ca href=\\&quot;https://carto.com/attributions\\&quot;\\u003eCARTO\\u003c/a\\u003e&quot;,\n",
              "  &quot;subdomains&quot;: &quot;abcd&quot;,\n",
              "  &quot;detectRetina&quot;: false,\n",
              "  &quot;tms&quot;: false,\n",
              "  &quot;opacity&quot;: 1,\n",
              "}\n",
              "\n",
              "            );\n",
              "        \n",
              "    \n",
              "            tile_layer_ef2d76d0851edcac3e9b1c3f56b2b23f.addTo(map_b1f4b91bf9b70e2d396c7cef039db85f);\n",
              "        \n",
              "    \n",
              "            L.Control.TimeDimensionCustom = L.Control.TimeDimension.extend({\n",
              "                _getDisplayDateFormat: function(date){\n",
              "                    var newdate = new moment(date);\n",
              "                    console.log(newdate)\n",
              "                    return newdate.format(&quot;YYYY/MM/DD HH:mm:ss&quot;);\n",
              "                }\n",
              "            });\n",
              "            map_b1f4b91bf9b70e2d396c7cef039db85f.timeDimension = L.timeDimension(\n",
              "                {\n",
              "                    period: &quot;PT1S&quot;,\n",
              "                }\n",
              "            );\n",
              "            var timeDimensionControl = new L.Control.TimeDimensionCustom(\n",
              "                {\n",
              "  &quot;position&quot;: &quot;bottomleft&quot;,\n",
              "  &quot;minSpeed&quot;: 0.1,\n",
              "  &quot;maxSpeed&quot;: 1,\n",
              "  &quot;autoPlay&quot;: true,\n",
              "  &quot;loopButton&quot;: true,\n",
              "  &quot;timeSliderDragUpdate&quot;: true,\n",
              "  &quot;speedSlider&quot;: true,\n",
              "  &quot;playerOptions&quot;: {\n",
              "  &quot;transitionTime&quot;: 100,\n",
              "  &quot;loop&quot;: false,\n",
              "  &quot;startOver&quot;: true,\n",
              "},\n",
              "}\n",
              "            );\n",
              "            map_b1f4b91bf9b70e2d396c7cef039db85f.addControl(this.timeDimensionControl);\n",
              "\n",
              "            var geoJsonLayer = L.geoJson({&quot;type&quot;: &quot;FeatureCollection&quot;, &quot;features&quot;: [{&quot;type&quot;: &quot;Feature&quot;, &quot;geometry&quot;: {&quot;type&quot;: &quot;Point&quot;, &quot;coordinates&quot;: [2.3488, 48.85341]}, &quot;properties&quot;: {&quot;time&quot;: &quot;2025-01-19T01:07:29.506568&quot;, &quot;style&quot;: {&quot;color&quot;: &quot;gray&quot;, &quot;fillColor&quot;: &quot;gray&quot;, &quot;fillOpacity&quot;: 0.3, &quot;weight&quot;: 2, &quot;radius&quot;: 4.0}, &quot;popup&quot;: &quot;\\n    &lt;div style=&#x27;width: 200px;&#x27;&gt;\\n        &lt;h4 style=&#x27;margin:0; color:#2c3e50;&#x27;&gt;Paris&lt;/h4&gt;\\n        &lt;hr style=&#x27;margin:5px 0;&#x27;&gt;\\n        &lt;p style=&#x27;margin:5px 0;&#x27;&gt;&lt;b&gt;Occurrences:&lt;/b&gt; 1&lt;/p&gt;\\n        &lt;p style=&#x27;margin:5px 0;&#x27;&gt;&lt;b&gt;Sentiment:&lt;/b&gt; Neutral&lt;/p&gt;\\n        &lt;div style=&#x27;margin-top:8px;&#x27;&gt;\\n            &lt;div style=&#x27;color:green;&#x27;&gt;Positive: 0&lt;/div&gt;\\n            &lt;div style=&#x27;color:red;&#x27;&gt;Negative: 0&lt;/div&gt;\\n            &lt;div style=&#x27;color:gray;&#x27;&gt;Neutral: 1&lt;/div&gt;\\n        &lt;/div&gt;\\n    &lt;/div&gt;\\n    &quot;, &quot;icon&quot;: &quot;circle&quot;}}, {&quot;type&quot;: &quot;Feature&quot;, &quot;geometry&quot;: {&quot;type&quot;: &quot;Point&quot;, &quot;coordinates&quot;: [-0.14405508452768728, 51.4893335]}, &quot;properties&quot;: {&quot;time&quot;: &quot;2025-01-19T01:07:31.506568&quot;, &quot;style&quot;: {&quot;color&quot;: &quot;blueviolet&quot;, &quot;fillColor&quot;: &quot;blueviolet&quot;, &quot;fillOpacity&quot;: 0.3, &quot;weight&quot;: 2, &quot;radius&quot;: 12.0}, &quot;popup&quot;: &quot;\\n    &lt;div style=&#x27;width: 200px;&#x27;&gt;\\n        &lt;h4 style=&#x27;margin:0; color:#2c3e50;&#x27;&gt;Londres&lt;/h4&gt;\\n        &lt;hr style=&#x27;margin:5px 0;&#x27;&gt;\\n        &lt;p style=&#x27;margin:5px 0;&#x27;&gt;&lt;b&gt;Occurrences:&lt;/b&gt; 3&lt;/p&gt;\\n        &lt;p style=&#x27;margin:5px 0;&#x27;&gt;&lt;b&gt;Sentiment:&lt;/b&gt; Mixed&lt;/p&gt;\\n        &lt;div style=&#x27;margin-top:8px;&#x27;&gt;\\n            &lt;div style=&#x27;color:green;&#x27;&gt;Positive: 1&lt;/div&gt;\\n            &lt;div style=&#x27;color:red;&#x27;&gt;Negative: 1&lt;/div&gt;\\n            &lt;div style=&#x27;color:gray;&#x27;&gt;Neutral: 1&lt;/div&gt;\\n        &lt;/div&gt;\\n    &lt;/div&gt;\\n    &quot;, &quot;icon&quot;: &quot;circle&quot;}}, {&quot;type&quot;: &quot;Feature&quot;, &quot;geometry&quot;: {&quot;type&quot;: &quot;Point&quot;, &quot;coordinates&quot;: [5.213001857960123, 51.69508853543067]}, &quot;properties&quot;: {&quot;time&quot;: &quot;2025-01-19T01:07:33.506568&quot;, &quot;style&quot;: {&quot;color&quot;: &quot;blueviolet&quot;, &quot;fillColor&quot;: &quot;blueviolet&quot;, &quot;fillOpacity&quot;: 0.3, &quot;weight&quot;: 2, &quot;radius&quot;: 20.0}, &quot;popup&quot;: &quot;\\n    &lt;div style=&#x27;width: 200px;&#x27;&gt;\\n        &lt;h4 style=&#x27;margin:0; color:#2c3e50;&#x27;&gt;Passepartout&lt;/h4&gt;\\n        &lt;hr style=&#x27;margin:5px 0;&#x27;&gt;\\n        &lt;p style=&#x27;margin:5px 0;&#x27;&gt;&lt;b&gt;Occurrences:&lt;/b&gt; 5&lt;/p&gt;\\n        &lt;p style=&#x27;margin:5px 0;&#x27;&gt;&lt;b&gt;Sentiment:&lt;/b&gt; Mixed&lt;/p&gt;\\n        &lt;div style=&#x27;margin-top:8px;&#x27;&gt;\\n            &lt;div style=&#x27;color:green;&#x27;&gt;Positive: 2&lt;/div&gt;\\n            &lt;div style=&#x27;color:red;&#x27;&gt;Negative: 1&lt;/div&gt;\\n            &lt;div style=&#x27;color:gray;&#x27;&gt;Neutral: 2&lt;/div&gt;\\n        &lt;/div&gt;\\n    &lt;/div&gt;\\n    &quot;, &quot;icon&quot;: &quot;circle&quot;}}, {&quot;type&quot;: &quot;Feature&quot;, &quot;geometry&quot;: {&quot;type&quot;: &quot;Point&quot;, &quot;coordinates&quot;: [38.53431455782818, 20.2965624]}, &quot;properties&quot;: {&quot;time&quot;: &quot;2025-01-19T01:07:35.506568&quot;, &quot;style&quot;: {&quot;color&quot;: &quot;green&quot;, &quot;fillColor&quot;: &quot;green&quot;, &quot;fillOpacity&quot;: 0.3, &quot;weight&quot;: 2, &quot;radius&quot;: 4.0}, &quot;popup&quot;: &quot;\\n    &lt;div style=&#x27;width: 200px;&#x27;&gt;\\n        &lt;h4 style=&#x27;margin:0; color:#2c3e50;&#x27;&gt;mer Rouge&lt;/h4&gt;\\n        &lt;hr style=&#x27;margin:5px 0;&#x27;&gt;\\n        &lt;p style=&#x27;margin:5px 0;&#x27;&gt;&lt;b&gt;Occurrences:&lt;/b&gt; 1&lt;/p&gt;\\n        &lt;p style=&#x27;margin:5px 0;&#x27;&gt;&lt;b&gt;Sentiment:&lt;/b&gt; Positive&lt;/p&gt;\\n        &lt;div style=&#x27;margin-top:8px;&#x27;&gt;\\n            &lt;div style=&#x27;color:green;&#x27;&gt;Positive: 1&lt;/div&gt;\\n            &lt;div style=&#x27;color:red;&#x27;&gt;Negative: 0&lt;/div&gt;\\n            &lt;div style=&#x27;color:gray;&#x27;&gt;Neutral: 0&lt;/div&gt;\\n        &lt;/div&gt;\\n    &lt;/div&gt;\\n    &quot;, &quot;icon&quot;: &quot;circle&quot;}}, {&quot;type&quot;: &quot;Feature&quot;, &quot;geometry&quot;: {&quot;type&quot;: &quot;Point&quot;, &quot;coordinates&quot;: [-1.0896647, 45.6434482]}, &quot;properties&quot;: {&quot;time&quot;: &quot;2025-01-19T01:07:37.506568&quot;, &quot;style&quot;: {&quot;color&quot;: &quot;green&quot;, &quot;fillColor&quot;: &quot;green&quot;, &quot;fillOpacity&quot;: 0.3, &quot;weight&quot;: 2, &quot;radius&quot;: 4.0}, &quot;popup&quot;: &quot;\\n    &lt;div style=&#x27;width: 200px;&#x27;&gt;\\n        &lt;h4 style=&#x27;margin:0; color:#2c3e50;&#x27;&gt;mer des Indes&lt;/h4&gt;\\n        &lt;hr style=&#x27;margin:5px 0;&#x27;&gt;\\n        &lt;p style=&#x27;margin:5px 0;&#x27;&gt;&lt;b&gt;Occurrences:&lt;/b&gt; 1&lt;/p&gt;\\n        &lt;p style=&#x27;margin:5px 0;&#x27;&gt;&lt;b&gt;Sentiment:&lt;/b&gt; Positive&lt;/p&gt;\\n        &lt;div style=&#x27;margin-top:8px;&#x27;&gt;\\n            &lt;div style=&#x27;color:green;&#x27;&gt;Positive: 1&lt;/div&gt;\\n            &lt;div style=&#x27;color:red;&#x27;&gt;Negative: 0&lt;/div&gt;\\n            &lt;div style=&#x27;color:gray;&#x27;&gt;Neutral: 0&lt;/div&gt;\\n        &lt;/div&gt;\\n    &lt;/div&gt;\\n    &quot;, &quot;icon&quot;: &quot;circle&quot;}}, {&quot;type&quot;: &quot;Feature&quot;, &quot;geometry&quot;: {&quot;type&quot;: &quot;Point&quot;, &quot;coordinates&quot;: [78.6677428, 22.3511148]}, &quot;properties&quot;: {&quot;time&quot;: &quot;2025-01-19T01:07:39.506568&quot;, &quot;style&quot;: {&quot;color&quot;: &quot;green&quot;, &quot;fillColor&quot;: &quot;green&quot;, &quot;fillOpacity&quot;: 0.3, &quot;weight&quot;: 2, &quot;radius&quot;: 4.0}, &quot;popup&quot;: &quot;\\n    &lt;div style=&#x27;width: 200px;&#x27;&gt;\\n        &lt;h4 style=&#x27;margin:0; color:#2c3e50;&#x27;&gt;Inde&lt;/h4&gt;\\n        &lt;hr style=&#x27;margin:5px 0;&#x27;&gt;\\n        &lt;p style=&#x27;margin:5px 0;&#x27;&gt;&lt;b&gt;Occurrences:&lt;/b&gt; 1&lt;/p&gt;\\n        &lt;p style=&#x27;margin:5px 0;&#x27;&gt;&lt;b&gt;Sentiment:&lt;/b&gt; Positive&lt;/p&gt;\\n        &lt;div style=&#x27;margin-top:8px;&#x27;&gt;\\n            &lt;div style=&#x27;color:green;&#x27;&gt;Positive: 1&lt;/div&gt;\\n            &lt;div style=&#x27;color:red;&#x27;&gt;Negative: 0&lt;/div&gt;\\n            &lt;div style=&#x27;color:gray;&#x27;&gt;Neutral: 0&lt;/div&gt;\\n        &lt;/div&gt;\\n    &lt;/div&gt;\\n    &quot;, &quot;icon&quot;: &quot;circle&quot;}}, {&quot;type&quot;: &quot;Feature&quot;, &quot;geometry&quot;: {&quot;type&quot;: &quot;Point&quot;, &quot;coordinates&quot;: [84.1137187, 25.7240512]}, &quot;properties&quot;: {&quot;time&quot;: &quot;2025-01-19T01:07:41.506568&quot;, &quot;style&quot;: {&quot;color&quot;: &quot;green&quot;, &quot;fillColor&quot;: &quot;green&quot;, &quot;fillOpacity&quot;: 0.3, &quot;weight&quot;: 2, &quot;radius&quot;: 4.0}, &quot;popup&quot;: &quot;\\n    &lt;div style=&#x27;width: 200px;&#x27;&gt;\\n        &lt;h4 style=&#x27;margin:0; color:#2c3e50;&#x27;&gt;Gange&lt;/h4&gt;\\n        &lt;hr style=&#x27;margin:5px 0;&#x27;&gt;\\n        &lt;p style=&#x27;margin:5px 0;&#x27;&gt;&lt;b&gt;Occurrences:&lt;/b&gt; 1&lt;/p&gt;\\n        &lt;p style=&#x27;margin:5px 0;&#x27;&gt;&lt;b&gt;Sentiment:&lt;/b&gt; Positive&lt;/p&gt;\\n        &lt;div style=&#x27;margin-top:8px;&#x27;&gt;\\n            &lt;div style=&#x27;color:green;&#x27;&gt;Positive: 1&lt;/div&gt;\\n            &lt;div style=&#x27;color:red;&#x27;&gt;Negative: 0&lt;/div&gt;\\n            &lt;div style=&#x27;color:gray;&#x27;&gt;Neutral: 0&lt;/div&gt;\\n        &lt;/div&gt;\\n    &lt;/div&gt;\\n    &quot;, &quot;icon&quot;: &quot;circle&quot;}}, {&quot;type&quot;: &quot;Feature&quot;, &quot;geometry&quot;: {&quot;type&quot;: &quot;Point&quot;, &quot;coordinates&quot;: [103.85007, 1.28967]}, &quot;properties&quot;: {&quot;time&quot;: &quot;2025-01-19T01:07:43.506568&quot;, &quot;style&quot;: {&quot;color&quot;: &quot;gray&quot;, &quot;fillColor&quot;: &quot;gray&quot;, &quot;fillOpacity&quot;: 0.3, &quot;weight&quot;: 2, &quot;radius&quot;: 4.0}, &quot;popup&quot;: &quot;\\n    &lt;div style=&#x27;width: 200px;&#x27;&gt;\\n        &lt;h4 style=&#x27;margin:0; color:#2c3e50;&#x27;&gt;Singapore&lt;/h4&gt;\\n        &lt;hr style=&#x27;margin:5px 0;&#x27;&gt;\\n        &lt;p style=&#x27;margin:5px 0;&#x27;&gt;&lt;b&gt;Occurrences:&lt;/b&gt; 1&lt;/p&gt;\\n        &lt;p style=&#x27;margin:5px 0;&#x27;&gt;&lt;b&gt;Sentiment:&lt;/b&gt; Neutral&lt;/p&gt;\\n        &lt;div style=&#x27;margin-top:8px;&#x27;&gt;\\n            &lt;div style=&#x27;color:green;&#x27;&gt;Positive: 0&lt;/div&gt;\\n            &lt;div style=&#x27;color:red;&#x27;&gt;Negative: 0&lt;/div&gt;\\n            &lt;div style=&#x27;color:gray;&#x27;&gt;Neutral: 1&lt;/div&gt;\\n        &lt;/div&gt;\\n    &lt;/div&gt;\\n    &quot;, &quot;icon&quot;: &quot;circle&quot;}}, {&quot;type&quot;: &quot;Feature&quot;, &quot;geometry&quot;: {&quot;type&quot;: &quot;Point&quot;, &quot;coordinates&quot;: [114.1849161, 22.350627]}, &quot;properties&quot;: {&quot;time&quot;: &quot;2025-01-19T01:07:45.506568&quot;, &quot;style&quot;: {&quot;color&quot;: &quot;gray&quot;, &quot;fillColor&quot;: &quot;gray&quot;, &quot;fillOpacity&quot;: 0.3, &quot;weight&quot;: 2, &quot;radius&quot;: 4.0}, &quot;popup&quot;: &quot;\\n    &lt;div style=&#x27;width: 200px;&#x27;&gt;\\n        &lt;h4 style=&#x27;margin:0; color:#2c3e50;&#x27;&gt;Hong-Kong&lt;/h4&gt;\\n        &lt;hr style=&#x27;margin:5px 0;&#x27;&gt;\\n        &lt;p style=&#x27;margin:5px 0;&#x27;&gt;&lt;b&gt;Occurrences:&lt;/b&gt; 1&lt;/p&gt;\\n        &lt;p style=&#x27;margin:5px 0;&#x27;&gt;&lt;b&gt;Sentiment:&lt;/b&gt; Neutral&lt;/p&gt;\\n        &lt;div style=&#x27;margin-top:8px;&#x27;&gt;\\n            &lt;div style=&#x27;color:green;&#x27;&gt;Positive: 0&lt;/div&gt;\\n            &lt;div style=&#x27;color:red;&#x27;&gt;Negative: 0&lt;/div&gt;\\n            &lt;div style=&#x27;color:gray;&#x27;&gt;Neutral: 1&lt;/div&gt;\\n        &lt;/div&gt;\\n    &lt;/div&gt;\\n    &quot;, &quot;icon&quot;: &quot;circle&quot;}}, {&quot;type&quot;: &quot;Feature&quot;, &quot;geometry&quot;: {&quot;type&quot;: &quot;Point&quot;, &quot;coordinates&quot;: [-120.9375, -0.703107]}, &quot;properties&quot;: {&quot;time&quot;: &quot;2025-01-19T01:07:47.506568&quot;, &quot;style&quot;: {&quot;color&quot;: &quot;green&quot;, &quot;fillColor&quot;: &quot;green&quot;, &quot;fillOpacity&quot;: 0.3, &quot;weight&quot;: 2, &quot;radius&quot;: 4.0}, &quot;popup&quot;: &quot;\\n    &lt;div style=&#x27;width: 200px;&#x27;&gt;\\n        &lt;h4 style=&#x27;margin:0; color:#2c3e50;&#x27;&gt;oc\\u00e9an Pacifique&lt;/h4&gt;\\n        &lt;hr style=&#x27;margin:5px 0;&#x27;&gt;\\n        &lt;p style=&#x27;margin:5px 0;&#x27;&gt;&lt;b&gt;Occurrences:&lt;/b&gt; 1&lt;/p&gt;\\n        &lt;p style=&#x27;margin:5px 0;&#x27;&gt;&lt;b&gt;Sentiment:&lt;/b&gt; Positive&lt;/p&gt;\\n        &lt;div style=&#x27;margin-top:8px;&#x27;&gt;\\n            &lt;div style=&#x27;color:green;&#x27;&gt;Positive: 1&lt;/div&gt;\\n            &lt;div style=&#x27;color:red;&#x27;&gt;Negative: 0&lt;/div&gt;\\n            &lt;div style=&#x27;color:gray;&#x27;&gt;Neutral: 0&lt;/div&gt;\\n        &lt;/div&gt;\\n    &lt;/div&gt;\\n    &quot;, &quot;icon&quot;: &quot;circle&quot;}}, {&quot;type&quot;: &quot;Feature&quot;, &quot;geometry&quot;: {&quot;type&quot;: &quot;Point&quot;, &quot;coordinates&quot;: [-122.4193286, 37.7792588]}, &quot;properties&quot;: {&quot;time&quot;: &quot;2025-01-19T01:07:49.506568&quot;, &quot;style&quot;: {&quot;color&quot;: &quot;green&quot;, &quot;fillColor&quot;: &quot;green&quot;, &quot;fillOpacity&quot;: 0.3, &quot;weight&quot;: 2, &quot;radius&quot;: 4.0}, &quot;popup&quot;: &quot;\\n    &lt;div style=&#x27;width: 200px;&#x27;&gt;\\n        &lt;h4 style=&#x27;margin:0; color:#2c3e50;&#x27;&gt;San-Francisco&lt;/h4&gt;\\n        &lt;hr style=&#x27;margin:5px 0;&#x27;&gt;\\n        &lt;p style=&#x27;margin:5px 0;&#x27;&gt;&lt;b&gt;Occurrences:&lt;/b&gt; 1&lt;/p&gt;\\n        &lt;p style=&#x27;margin:5px 0;&#x27;&gt;&lt;b&gt;Sentiment:&lt;/b&gt; Positive&lt;/p&gt;\\n        &lt;div style=&#x27;margin-top:8px;&#x27;&gt;\\n            &lt;div style=&#x27;color:green;&#x27;&gt;Positive: 1&lt;/div&gt;\\n            &lt;div style=&#x27;color:red;&#x27;&gt;Negative: 0&lt;/div&gt;\\n            &lt;div style=&#x27;color:gray;&#x27;&gt;Neutral: 0&lt;/div&gt;\\n        &lt;/div&gt;\\n    &lt;/div&gt;\\n    &quot;, &quot;icon&quot;: &quot;circle&quot;}}, {&quot;type&quot;: &quot;Feature&quot;, &quot;geometry&quot;: {&quot;type&quot;: &quot;Point&quot;, &quot;coordinates&quot;: [-120.9375, -0.703107]}, &quot;properties&quot;: {&quot;time&quot;: &quot;2025-01-19T01:07:51.506568&quot;, &quot;style&quot;: {&quot;color&quot;: &quot;green&quot;, &quot;fillColor&quot;: &quot;green&quot;, &quot;fillOpacity&quot;: 0.3, &quot;weight&quot;: 2, &quot;radius&quot;: 4.0}, &quot;popup&quot;: &quot;\\n    &lt;div style=&#x27;width: 200px;&#x27;&gt;\\n        &lt;h4 style=&#x27;margin:0; color:#2c3e50;&#x27;&gt;Pacifique&lt;/h4&gt;\\n        &lt;hr style=&#x27;margin:5px 0;&#x27;&gt;\\n        &lt;p style=&#x27;margin:5px 0;&#x27;&gt;&lt;b&gt;Occurrences:&lt;/b&gt; 1&lt;/p&gt;\\n        &lt;p style=&#x27;margin:5px 0;&#x27;&gt;&lt;b&gt;Sentiment:&lt;/b&gt; Positive&lt;/p&gt;\\n        &lt;div style=&#x27;margin-top:8px;&#x27;&gt;\\n            &lt;div style=&#x27;color:green;&#x27;&gt;Positive: 1&lt;/div&gt;\\n            &lt;div style=&#x27;color:red;&#x27;&gt;Negative: 0&lt;/div&gt;\\n            &lt;div style=&#x27;color:gray;&#x27;&gt;Neutral: 0&lt;/div&gt;\\n        &lt;/div&gt;\\n    &lt;/div&gt;\\n    &quot;, &quot;icon&quot;: &quot;circle&quot;}}, {&quot;type&quot;: &quot;Feature&quot;, &quot;geometry&quot;: {&quot;type&quot;: &quot;Point&quot;, &quot;coordinates&quot;: [-74.2632, 40.6976]}, &quot;properties&quot;: {&quot;time&quot;: &quot;2025-01-19T01:07:53.506568&quot;, &quot;style&quot;: {&quot;color&quot;: &quot;gray&quot;, &quot;fillColor&quot;: &quot;gray&quot;, &quot;fillOpacity&quot;: 0.3, &quot;weight&quot;: 2, &quot;radius&quot;: 4.0}, &quot;popup&quot;: &quot;\\n    &lt;div style=&#x27;width: 200px;&#x27;&gt;\\n        &lt;h4 style=&#x27;margin:0; color:#2c3e50;&#x27;&gt;Union&lt;/h4&gt;\\n        &lt;hr style=&#x27;margin:5px 0;&#x27;&gt;\\n        &lt;p style=&#x27;margin:5px 0;&#x27;&gt;&lt;b&gt;Occurrences:&lt;/b&gt; 1&lt;/p&gt;\\n        &lt;p style=&#x27;margin:5px 0;&#x27;&gt;&lt;b&gt;Sentiment:&lt;/b&gt; Neutral&lt;/p&gt;\\n        &lt;div style=&#x27;margin-top:8px;&#x27;&gt;\\n            &lt;div style=&#x27;color:green;&#x27;&gt;Positive: 0&lt;/div&gt;\\n            &lt;div style=&#x27;color:red;&#x27;&gt;Negative: 0&lt;/div&gt;\\n            &lt;div style=&#x27;color:gray;&#x27;&gt;Neutral: 1&lt;/div&gt;\\n        &lt;/div&gt;\\n    &lt;/div&gt;\\n    &quot;, &quot;icon&quot;: &quot;circle&quot;}}, {&quot;type&quot;: &quot;Feature&quot;, &quot;geometry&quot;: {&quot;type&quot;: &quot;Point&quot;, &quot;coordinates&quot;: [-0.14021914137860197, 51.51073380969357]}, &quot;properties&quot;: {&quot;time&quot;: &quot;2025-01-19T01:07:55.506568&quot;, &quot;style&quot;: {&quot;color&quot;: &quot;blueviolet&quot;, &quot;fillColor&quot;: &quot;blueviolet&quot;, &quot;fillOpacity&quot;: 0.3, &quot;weight&quot;: 2, &quot;radius&quot;: 8.0}, &quot;popup&quot;: &quot;\\n    &lt;div style=&#x27;width: 200px;&#x27;&gt;\\n        &lt;h4 style=&#x27;margin:0; color:#2c3e50;&#x27;&gt;Saville-row&lt;/h4&gt;\\n        &lt;hr style=&#x27;margin:5px 0;&#x27;&gt;\\n        &lt;p style=&#x27;margin:5px 0;&#x27;&gt;&lt;b&gt;Occurrences:&lt;/b&gt; 2&lt;/p&gt;\\n        &lt;p style=&#x27;margin:5px 0;&#x27;&gt;&lt;b&gt;Sentiment:&lt;/b&gt; Mixed&lt;/p&gt;\\n        &lt;div style=&#x27;margin-top:8px;&#x27;&gt;\\n            &lt;div style=&#x27;color:green;&#x27;&gt;Positive: 1&lt;/div&gt;\\n            &lt;div style=&#x27;color:red;&#x27;&gt;Negative: 0&lt;/div&gt;\\n            &lt;div style=&#x27;color:gray;&#x27;&gt;Neutral: 1&lt;/div&gt;\\n        &lt;/div&gt;\\n    &lt;/div&gt;\\n    &quot;, &quot;icon&quot;: &quot;circle&quot;}}, {&quot;type&quot;: &quot;Feature&quot;, &quot;geometry&quot;: {&quot;type&quot;: &quot;Point&quot;, &quot;coordinates&quot;: [-100.457645, 39.3530598]}, &quot;properties&quot;: {&quot;time&quot;: &quot;2025-01-19T01:07:57.506568&quot;, &quot;style&quot;: {&quot;color&quot;: &quot;green&quot;, &quot;fillColor&quot;: &quot;green&quot;, &quot;fillOpacity&quot;: 0.3, &quot;weight&quot;: 2, &quot;radius&quot;: 4.0}, &quot;popup&quot;: &quot;\\n    &lt;div style=&#x27;width: 200px;&#x27;&gt;\\n        &lt;h4 style=&#x27;margin:0; color:#2c3e50;&#x27;&gt;Sh\\u00e9ridan&lt;/h4&gt;\\n        &lt;hr style=&#x27;margin:5px 0;&#x27;&gt;\\n        &lt;p style=&#x27;margin:5px 0;&#x27;&gt;&lt;b&gt;Occurrences:&lt;/b&gt; 1&lt;/p&gt;\\n        &lt;p style=&#x27;margin:5px 0;&#x27;&gt;&lt;b&gt;Sentiment:&lt;/b&gt; Positive&lt;/p&gt;\\n        &lt;div style=&#x27;margin-top:8px;&#x27;&gt;\\n            &lt;div style=&#x27;color:green;&#x27;&gt;Positive: 1&lt;/div&gt;\\n            &lt;div style=&#x27;color:red;&#x27;&gt;Negative: 0&lt;/div&gt;\\n            &lt;div style=&#x27;color:gray;&#x27;&gt;Neutral: 0&lt;/div&gt;\\n        &lt;/div&gt;\\n    &lt;/div&gt;\\n    &quot;, &quot;icon&quot;: &quot;circle&quot;}}, {&quot;type&quot;: &quot;Feature&quot;, &quot;geometry&quot;: {&quot;type&quot;: &quot;Point&quot;, &quot;coordinates&quot;: [-1.2649062, 52.5310214]}, &quot;properties&quot;: {&quot;time&quot;: &quot;2025-01-19T01:07:59.506568&quot;, &quot;style&quot;: {&quot;color&quot;: &quot;blueviolet&quot;, &quot;fillColor&quot;: &quot;blueviolet&quot;, &quot;fillOpacity&quot;: 0.3, &quot;weight&quot;: 2, &quot;radius&quot;: 8.0}, &quot;popup&quot;: &quot;\\n    &lt;div style=&#x27;width: 200px;&#x27;&gt;\\n        &lt;h4 style=&#x27;margin:0; color:#2c3e50;&#x27;&gt;Angleterre&lt;/h4&gt;\\n        &lt;hr style=&#x27;margin:5px 0;&#x27;&gt;\\n        &lt;p style=&#x27;margin:5px 0;&#x27;&gt;&lt;b&gt;Occurrences:&lt;/b&gt; 2&lt;/p&gt;\\n        &lt;p style=&#x27;margin:5px 0;&#x27;&gt;&lt;b&gt;Sentiment:&lt;/b&gt; Mixed&lt;/p&gt;\\n        &lt;div style=&#x27;margin-top:8px;&#x27;&gt;\\n            &lt;div style=&#x27;color:green;&#x27;&gt;Positive: 1&lt;/div&gt;\\n            &lt;div style=&#x27;color:red;&#x27;&gt;Negative: 1&lt;/div&gt;\\n            &lt;div style=&#x27;color:gray;&#x27;&gt;Neutral: 0&lt;/div&gt;\\n        &lt;/div&gt;\\n    &lt;/div&gt;\\n    &quot;, &quot;icon&quot;: &quot;circle&quot;}}, {&quot;type&quot;: &quot;Feature&quot;, &quot;geometry&quot;: {&quot;type&quot;: &quot;Point&quot;, &quot;coordinates&quot;: [-74.1729227, 18.3307412]}, &quot;properties&quot;: {&quot;time&quot;: &quot;2025-01-19T01:08:01.506568&quot;, &quot;style&quot;: {&quot;color&quot;: &quot;gray&quot;, &quot;fillColor&quot;: &quot;gray&quot;, &quot;fillOpacity&quot;: 0.3, &quot;weight&quot;: 2, &quot;radius&quot;: 4.0}, &quot;popup&quot;: &quot;\\n    &lt;div style=&#x27;width: 200px;&#x27;&gt;\\n        &lt;h4 style=&#x27;margin:0; color:#2c3e50;&#x27;&gt;Anglais&lt;/h4&gt;\\n        &lt;hr style=&#x27;margin:5px 0;&#x27;&gt;\\n        &lt;p style=&#x27;margin:5px 0;&#x27;&gt;&lt;b&gt;Occurrences:&lt;/b&gt; 1&lt;/p&gt;\\n        &lt;p style=&#x27;margin:5px 0;&#x27;&gt;&lt;b&gt;Sentiment:&lt;/b&gt; Neutral&lt;/p&gt;\\n        &lt;div style=&#x27;margin-top:8px;&#x27;&gt;\\n            &lt;div style=&#x27;color:green;&#x27;&gt;Positive: 0&lt;/div&gt;\\n            &lt;div style=&#x27;color:red;&#x27;&gt;Negative: 0&lt;/div&gt;\\n            &lt;div style=&#x27;color:gray;&#x27;&gt;Neutral: 1&lt;/div&gt;\\n        &lt;/div&gt;\\n    &lt;/div&gt;\\n    &quot;, &quot;icon&quot;: &quot;circle&quot;}}, {&quot;type&quot;: &quot;Feature&quot;, &quot;geometry&quot;: {&quot;type&quot;: &quot;Point&quot;, &quot;coordinates&quot;: [2.3414383, 48.8686539]}, &quot;properties&quot;: {&quot;time&quot;: &quot;2025-01-19T01:08:03.506568&quot;, &quot;style&quot;: {&quot;color&quot;: &quot;red&quot;, &quot;fillColor&quot;: &quot;red&quot;, &quot;fillOpacity&quot;: 0.3, &quot;weight&quot;: 2, &quot;radius&quot;: 4.0}, &quot;popup&quot;: &quot;\\n    &lt;div style=&#x27;width: 200px;&#x27;&gt;\\n        &lt;h4 style=&#x27;margin:0; color:#2c3e50;&#x27;&gt;Bourse&lt;/h4&gt;\\n        &lt;hr style=&#x27;margin:5px 0;&#x27;&gt;\\n        &lt;p style=&#x27;margin:5px 0;&#x27;&gt;&lt;b&gt;Occurrences:&lt;/b&gt; 1&lt;/p&gt;\\n        &lt;p style=&#x27;margin:5px 0;&#x27;&gt;&lt;b&gt;Sentiment:&lt;/b&gt; Negative&lt;/p&gt;\\n        &lt;div style=&#x27;margin-top:8px;&#x27;&gt;\\n            &lt;div style=&#x27;color:green;&#x27;&gt;Positive: 0&lt;/div&gt;\\n            &lt;div style=&#x27;color:red;&#x27;&gt;Negative: 1&lt;/div&gt;\\n            &lt;div style=&#x27;color:gray;&#x27;&gt;Neutral: 0&lt;/div&gt;\\n        &lt;/div&gt;\\n    &lt;/div&gt;\\n    &quot;, &quot;icon&quot;: &quot;circle&quot;}}, {&quot;type&quot;: &quot;Feature&quot;, &quot;geometry&quot;: {&quot;type&quot;: &quot;Point&quot;, &quot;coordinates&quot;: [2.3475596, 48.8553219]}, &quot;properties&quot;: {&quot;time&quot;: &quot;2025-01-19T01:08:05.506568&quot;, &quot;style&quot;: {&quot;color&quot;: &quot;red&quot;, &quot;fillColor&quot;: &quot;red&quot;, &quot;fillOpacity&quot;: 0.3, &quot;weight&quot;: 2, &quot;radius&quot;: 4.0}, &quot;popup&quot;: &quot;\\n    &lt;div style=&#x27;width: 200px;&#x27;&gt;\\n        &lt;h4 style=&#x27;margin:0; color:#2c3e50;&#x27;&gt;Cit\\u00e9&lt;/h4&gt;\\n        &lt;hr style=&#x27;margin:5px 0;&#x27;&gt;\\n        &lt;p style=&#x27;margin:5px 0;&#x27;&gt;&lt;b&gt;Occurrences:&lt;/b&gt; 1&lt;/p&gt;\\n        &lt;p style=&#x27;margin:5px 0;&#x27;&gt;&lt;b&gt;Sentiment:&lt;/b&gt; Negative&lt;/p&gt;\\n        &lt;div style=&#x27;margin-top:8px;&#x27;&gt;\\n            &lt;div style=&#x27;color:green;&#x27;&gt;Positive: 0&lt;/div&gt;\\n            &lt;div style=&#x27;color:red;&#x27;&gt;Negative: 1&lt;/div&gt;\\n            &lt;div style=&#x27;color:gray;&#x27;&gt;Neutral: 0&lt;/div&gt;\\n        &lt;/div&gt;\\n    &lt;/div&gt;\\n    &quot;, &quot;icon&quot;: &quot;circle&quot;}}, {&quot;type&quot;: &quot;Feature&quot;, &quot;geometry&quot;: {&quot;type&quot;: &quot;Point&quot;, &quot;coordinates&quot;: [-97.34278, 31.09823]}, &quot;properties&quot;: {&quot;time&quot;: &quot;2025-01-19T01:08:07.506568&quot;, &quot;style&quot;: {&quot;color&quot;: &quot;red&quot;, &quot;fillColor&quot;: &quot;red&quot;, &quot;fillOpacity&quot;: 0.3, &quot;weight&quot;: 2, &quot;radius&quot;: 4.0}, &quot;popup&quot;: &quot;\\n    &lt;div style=&#x27;width: 200px;&#x27;&gt;\\n        &lt;h4 style=&#x27;margin:0; color:#2c3e50;&#x27;&gt;Temple&lt;/h4&gt;\\n        &lt;hr style=&#x27;margin:5px 0;&#x27;&gt;\\n        &lt;p style=&#x27;margin:5px 0;&#x27;&gt;&lt;b&gt;Occurrences:&lt;/b&gt; 1&lt;/p&gt;\\n        &lt;p style=&#x27;margin:5px 0;&#x27;&gt;&lt;b&gt;Sentiment:&lt;/b&gt; Negative&lt;/p&gt;\\n        &lt;div style=&#x27;margin-top:8px;&#x27;&gt;\\n            &lt;div style=&#x27;color:green;&#x27;&gt;Positive: 0&lt;/div&gt;\\n            &lt;div style=&#x27;color:red;&#x27;&gt;Negative: 1&lt;/div&gt;\\n            &lt;div style=&#x27;color:gray;&#x27;&gt;Neutral: 0&lt;/div&gt;\\n        &lt;/div&gt;\\n    &lt;/div&gt;\\n    &quot;, &quot;icon&quot;: &quot;circle&quot;}}, {&quot;type&quot;: &quot;Feature&quot;, &quot;geometry&quot;: {&quot;type&quot;: &quot;Point&quot;, &quot;coordinates&quot;: [-0.11212700209883664, 51.51558515]}, &quot;properties&quot;: {&quot;time&quot;: &quot;2025-01-19T01:08:09.506568&quot;, &quot;style&quot;: {&quot;color&quot;: &quot;red&quot;, &quot;fillColor&quot;: &quot;red&quot;, &quot;fillOpacity&quot;: 0.3, &quot;weight&quot;: 2, &quot;radius&quot;: 4.0}, &quot;popup&quot;: &quot;\\n    &lt;div style=&#x27;width: 200px;&#x27;&gt;\\n        &lt;h4 style=&#x27;margin:0; color:#2c3e50;&#x27;&gt;Lincoln&#x27;s-inn&lt;/h4&gt;\\n        &lt;hr style=&#x27;margin:5px 0;&#x27;&gt;\\n        &lt;p style=&#x27;margin:5px 0;&#x27;&gt;&lt;b&gt;Occurrences:&lt;/b&gt; 1&lt;/p&gt;\\n        &lt;p style=&#x27;margin:5px 0;&#x27;&gt;&lt;b&gt;Sentiment:&lt;/b&gt; Negative&lt;/p&gt;\\n        &lt;div style=&#x27;margin-top:8px;&#x27;&gt;\\n            &lt;div style=&#x27;color:green;&#x27;&gt;Positive: 0&lt;/div&gt;\\n            &lt;div style=&#x27;color:red;&#x27;&gt;Negative: 1&lt;/div&gt;\\n            &lt;div style=&#x27;color:gray;&#x27;&gt;Neutral: 0&lt;/div&gt;\\n        &lt;/div&gt;\\n    &lt;/div&gt;\\n    &quot;, &quot;icon&quot;: &quot;circle&quot;}}, {&quot;type&quot;: &quot;Feature&quot;, &quot;geometry&quot;: {&quot;type&quot;: &quot;Point&quot;, &quot;coordinates&quot;: [-100.7892236, 35.3711816]}, &quot;properties&quot;: {&quot;time&quot;: &quot;2025-01-19T01:08:11.506568&quot;, &quot;style&quot;: {&quot;color&quot;: &quot;red&quot;, &quot;fillColor&quot;: &quot;red&quot;, &quot;fillOpacity&quot;: 0.3, &quot;weight&quot;: 2, &quot;radius&quot;: 4.0}, &quot;popup&quot;: &quot;\\n    &lt;div style=&#x27;width: 200px;&#x27;&gt;\\n        &lt;h4 style=&#x27;margin:0; color:#2c3e50;&#x27;&gt;Gray&#x27;&lt;/h4&gt;\\n        &lt;hr style=&#x27;margin:5px 0;&#x27;&gt;\\n        &lt;p style=&#x27;margin:5px 0;&#x27;&gt;&lt;b&gt;Occurrences:&lt;/b&gt; 1&lt;/p&gt;\\n        &lt;p style=&#x27;margin:5px 0;&#x27;&gt;&lt;b&gt;Sentiment:&lt;/b&gt; Negative&lt;/p&gt;\\n        &lt;div style=&#x27;margin-top:8px;&#x27;&gt;\\n            &lt;div style=&#x27;color:green;&#x27;&gt;Positive: 0&lt;/div&gt;\\n            &lt;div style=&#x27;color:red;&#x27;&gt;Negative: 1&lt;/div&gt;\\n            &lt;div style=&#x27;color:gray;&#x27;&gt;Neutral: 0&lt;/div&gt;\\n        &lt;/div&gt;\\n    &lt;/div&gt;\\n    &quot;, &quot;icon&quot;: &quot;circle&quot;}}]}, {\n",
              "                    pointToLayer: function (feature, latLng) {\n",
              "                        if (feature.properties.icon == &#x27;marker&#x27;) {\n",
              "                            if(feature.properties.iconstyle){\n",
              "                                return new L.Marker(latLng, {\n",
              "                                    icon: L.icon(feature.properties.iconstyle)});\n",
              "                            }\n",
              "                            //else\n",
              "                            return new L.Marker(latLng);\n",
              "                        }\n",
              "                        if (feature.properties.icon == &#x27;circle&#x27;) {\n",
              "                            if (feature.properties.iconstyle) {\n",
              "                                return new L.circleMarker(latLng, feature.properties.iconstyle)\n",
              "                                };\n",
              "                            //else\n",
              "                            return new L.circleMarker(latLng);\n",
              "                        }\n",
              "                        //else\n",
              "\n",
              "                        return new L.Marker(latLng);\n",
              "                    },\n",
              "                    style: function (feature) {\n",
              "                        return feature.properties.style;\n",
              "                    },\n",
              "                    onEachFeature: function(feature, layer) {\n",
              "                        if (feature.properties.popup) {\n",
              "                        layer.bindPopup(feature.properties.popup);\n",
              "                        }\n",
              "                        if (feature.properties.tooltip) {\n",
              "                        layer.bindTooltip(feature.properties.tooltip);\n",
              "                        }\n",
              "                    }\n",
              "                })\n",
              "\n",
              "            var timestamped_geo_json_fdd234d36ae63b95d34817970139cae8 = L.timeDimension.layer.geoJson(\n",
              "                geoJsonLayer,\n",
              "                {\n",
              "                    updateTimeDimension: true,\n",
              "                    addlastPoint: true,\n",
              "                    duration: &quot;PT1H&quot;,\n",
              "                }\n",
              "            ).addTo(map_b1f4b91bf9b70e2d396c7cef039db85f);\n",
              "        \n",
              "    \n",
              "            tile_layer_ef2d76d0851edcac3e9b1c3f56b2b23f.addTo(map_b1f4b91bf9b70e2d396c7cef039db85f);\n",
              "        \n",
              "&lt;/script&gt;\n",
              "&lt;/html&gt;\" style=\"position:absolute;width:100%;height:100%;left:0;top:0;border:none !important;\" allowfullscreen webkitallowfullscreen mozallowfullscreen></iframe></div></div>"
            ]
          },
          "metadata": {},
          "execution_count": 85
        }
      ]
    },
    {
      "cell_type": "markdown",
      "source": [
        "\n",
        "\n",
        "---\n",
        "\n",
        "\n",
        "#`End`\n",
        "\n",
        "<p xmlns:cc=\"http://creativecommons.org/ns#\" >Ce support est distribué selon les termes de la licence Creative Commons <a href=\"http://creativecommons.org/licenses/by-nc-sa/4.0/?ref=chooser-v1\" target=\"_blank\" rel=\"license noopener noreferrer\" style=\"display:inline-block;\">CC BY-NC-SA 4.0\n",
        "\n",
        "<img style=\"height:11px!important;margin-left:3px;vertical-align:text-bottom;\" src=\"https://mirrors.creativecommons.org/presskit/icons/cc.svg?ref=chooser-v1\"><img style=\"height:11px!important;margin-left:3px;vertical-align:text-bottom;\" src=\"https://mirrors.creativecommons.org/presskit/icons/by.svg?ref=chooser-v1\"><img style=\"height:11px!important;margin-left:3px;vertical-align:text-bottom;\" src=\"https://mirrors.creativecommons.org/presskit/icons/nc.svg?ref=chooser-v1\"><img style=\"height:11px!important;margin-left:3px;vertical-align:text-bottom;\" src=\"https://mirrors.creativecommons.org/presskit/icons/sa.svg?ref=chooser-v1\"></a></p>\n"
      ],
      "metadata": {
        "id": "kNK86xbrQTGx"
      }
    }
  ]
}
